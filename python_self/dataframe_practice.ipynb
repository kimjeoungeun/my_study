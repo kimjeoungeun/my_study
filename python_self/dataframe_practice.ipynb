{
 "cells": [
  {
   "attachments": {},
   "cell_type": "markdown",
   "metadata": {},
   "source": [
    "# Pandas"
   ]
  },
  {
   "attachments": {},
   "cell_type": "markdown",
   "metadata": {},
   "source": [
    "### pandas 정의\n",
    "- 불러오기\n",
    "  - import pandas as pd\n",
    "- 파일 읽기\n",
    "  - df = pd.read_csv('파일이름.csv')\n",
    "  - 한글깨짐방지 : encoding='utf-8'\n",
    "\n",
    "### 데이터구조\n",
    "#### 시리즈\n",
    "  - pd.Series\n",
    "  - 열(column)이 한개인 표\n",
    "\n",
    "#### DataFrame\n",
    "  - 행,열이 여러개인 표 모양\n",
    "  - 딕셔너리, Matrix"
   ]
  },
  {
   "attachments": {},
   "cell_type": "markdown",
   "metadata": {},
   "source": []
  },
  {
   "attachments": {},
   "cell_type": "markdown",
   "metadata": {},
   "source": [
    "### DataFrame 함수"
   ]
  }
 ],
 "metadata": {
  "kernelspec": {
   "display_name": "Python 3",
   "language": "python",
   "name": "python3"
  },
  "language_info": {
   "codemirror_mode": {
    "name": "ipython",
    "version": 3
   },
   "file_extension": ".py",
   "mimetype": "text/x-python",
   "name": "python",
   "nbconvert_exporter": "python",
   "pygments_lexer": "ipython3",
   "version": "3.9.13"
  },
  "orig_nbformat": 4
 },
 "nbformat": 4,
 "nbformat_minor": 2
}

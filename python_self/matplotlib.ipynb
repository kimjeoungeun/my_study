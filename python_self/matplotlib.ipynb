{
 "cells": [
  {
   "cell_type": "code",
   "execution_count": 2,
   "metadata": {},
   "outputs": [],
   "source": [
    "import numpy as np\n",
    "import pandas as pd\n",
    "import matplotlib.pyplot as plt\n",
    "# %matplotlib notebook (쥬피터 노트북에서 그릴때 사용)\n",
    "# %matplotlib qt (별도의 팝업창에서 그래프 출력(colab X))"
   ]
  },
  {
   "attachments": {},
   "cell_type": "markdown",
   "metadata": {},
   "source": [
    "### Matplotlib(맷플롯립)\n",
    "- Python에서 자료를 chart(차트)나 plot(플롯)으로 시각화하는 패키지\n",
    "#### 종류\n",
    "- 라인 플롯(line plot)\n",
    "- 스캐터 플롯(scatter plot)\n",
    "- 컨투어 플롯(contour plot)\n",
    "- 서피스 플롯(surface plot)\n",
    "- 바 차트(bar chart)\n",
    "- 히스토그램(histogram)\n",
    "- 박스 플롯(box plot)\n",
    "- 기타 시각화 예제 : http://matplotlib.org/gallery.html\n",
    "- "
   ]
  },
  {
   "attachments": {},
   "cell_type": "markdown",
   "metadata": {},
   "source": [
    "- 선그래프"
   ]
  }
 ],
 "metadata": {
  "kernelspec": {
   "display_name": "Python 3",
   "language": "python",
   "name": "python3"
  },
  "language_info": {
   "codemirror_mode": {
    "name": "ipython",
    "version": 3
   },
   "file_extension": ".py",
   "mimetype": "text/x-python",
   "name": "python",
   "nbconvert_exporter": "python",
   "pygments_lexer": "ipython3",
   "version": "3.9.13"
  },
  "orig_nbformat": 4
 },
 "nbformat": 4,
 "nbformat_minor": 2
}

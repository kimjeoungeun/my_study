{
 "cells": [
  {
   "cell_type": "code",
   "execution_count": 3,
   "metadata": {},
   "outputs": [],
   "source": [
    "import numpy as np # numpy 패키지\n",
    "import pandas as pd # pandas 패키지\n",
    "import matplotlib.pyplot as plt # matplotlib 패키지의 pyplot 모듈을 plt로 import\n",
    "import seaborn as sns\n",
    "\n",
    "from matplotlib import rcParams # 한글 환경설정을 위한 rcparams\n",
    "# 한글 환경 설정, 열 때마다 실행\n",
    "# 항상 되는 것은 아님\n",
    "\n",
    "def setting_stlyes_basic():\n",
    "    rcParams['font.family']='Malgun Gothic'\n",
    "    rcParams['axes.unicode_minus']='False' # 한글폰트 사용시 마이너스 기호가 깨지는 현상 방지\n",
    "\n",
    "setting_stlyes_basic()\n",
    "# 경고창 무시\n",
    "import warnings\n",
    "warnings.filterwarnings('ignore')"
   ]
  }
 ],
 "metadata": {
  "kernelspec": {
   "display_name": "Python 3",
   "language": "python",
   "name": "python3"
  },
  "language_info": {
   "codemirror_mode": {
    "name": "ipython",
    "version": 3
   },
   "file_extension": ".py",
   "mimetype": "text/x-python",
   "name": "python",
   "nbconvert_exporter": "python",
   "pygments_lexer": "ipython3",
   "version": "3.9.13"
  },
  "orig_nbformat": 4
 },
 "nbformat": 4,
 "nbformat_minor": 2
}

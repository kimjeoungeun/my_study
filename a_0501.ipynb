{
  "nbformat": 4,
  "nbformat_minor": 0,
  "metadata": {
    "colab": {
      "provenance": [],
      "authorship_tag": "ABX9TyPM270y/MUA/fCREgrz16J9",
      "include_colab_link": true
    },
    "kernelspec": {
      "name": "python3",
      "display_name": "Python 3"
    },
    "language_info": {
      "name": "python"
    }
  },
  "cells": [
    {
      "cell_type": "markdown",
      "metadata": {
        "id": "view-in-github",
        "colab_type": "text"
      },
      "source": [
        "<a href=\"https://colab.research.google.com/github/kje0058/my_study/blob/main/a_0501.ipynb\" target=\"_parent\"><img src=\"https://colab.research.google.com/assets/colab-badge.svg\" alt=\"Open In Colab\"/></a>"
      ]
    },
    {
      "cell_type": "code",
      "source": [
        "a=[5,4,3,2,1]\n",
        "b=a[:]"
      ],
      "metadata": {
        "id": "0Fe2RJTMUbPa"
      },
      "execution_count": null,
      "outputs": []
    },
    {
      "cell_type": "code",
      "source": [
        "print(id(a),id(b))"
      ],
      "metadata": {
        "id": "0xZnCl9DaQoE"
      },
      "execution_count": null,
      "outputs": []
    },
    {
      "cell_type": "code",
      "source": [
        "b"
      ],
      "metadata": {
        "id": "YLGrZeMcaR9x"
      },
      "execution_count": null,
      "outputs": []
    },
    {
      "cell_type": "code",
      "source": [
        "a.sort()"
      ],
      "metadata": {
        "id": "uqAhZVj8aT_Z"
      },
      "execution_count": null,
      "outputs": []
    },
    {
      "cell_type": "code",
      "source": [
        "a"
      ],
      "metadata": {
        "id": "wNp2f_EtaV2p"
      },
      "execution_count": null,
      "outputs": []
    },
    {
      "cell_type": "code",
      "source": [
        "b"
      ],
      "metadata": {
        "id": "YWZgIYNxaWtB"
      },
      "execution_count": null,
      "outputs": []
    },
    {
      "cell_type": "code",
      "source": [
        "a=[5,4,3,2,1]\n",
        "b=a.copy()\n",
        "print(id(a),id(b))"
      ],
      "metadata": {
        "id": "gWESzgAQTPIU"
      },
      "execution_count": null,
      "outputs": []
    },
    {
      "cell_type": "code",
      "source": [
        "a.sort()\n",
        "a"
      ],
      "metadata": {
        "id": "zi-gccGOwbdb"
      },
      "execution_count": null,
      "outputs": []
    },
    {
      "cell_type": "code",
      "source": [
        "b"
      ],
      "metadata": {
        "id": "9_LBHgh8wY_D"
      },
      "execution_count": null,
      "outputs": []
    },
    {
      "cell_type": "code",
      "source": [
        "a"
      ],
      "metadata": {
        "id": "TcZyvrt6wY08"
      },
      "execution_count": null,
      "outputs": []
    },
    {
      "cell_type": "code",
      "source": [
        "import copy\n",
        "a=[5,4,3,2,1]\n",
        "b=copy.deepcopy(a)\n",
        "print(id(a),id(b))"
      ],
      "metadata": {
        "id": "lbQk48oYUHgr"
      },
      "execution_count": null,
      "outputs": []
    },
    {
      "cell_type": "code",
      "source": [
        "a.sort()\n",
        "a"
      ],
      "metadata": {
        "id": "MQXpW_1cwpa1"
      },
      "execution_count": null,
      "outputs": []
    },
    {
      "cell_type": "code",
      "source": [
        "b"
      ],
      "metadata": {
        "id": "FnBqldttwpIE"
      },
      "execution_count": null,
      "outputs": []
    },
    {
      "cell_type": "code",
      "source": [
        "a"
      ],
      "metadata": {
        "id": "9c0VHlf6wrOT"
      },
      "execution_count": null,
      "outputs": []
    },
    {
      "cell_type": "code",
      "source": [
        "a=[5,4,3,2,1]\n",
        "b=a[:]\n",
        "print(id(a),id(b))"
      ],
      "metadata": {
        "id": "aFI2aSwYU17C"
      },
      "execution_count": null,
      "outputs": []
    },
    {
      "cell_type": "code",
      "source": [
        "b"
      ],
      "metadata": {
        "id": "X0MMO9ugwwWb"
      },
      "execution_count": null,
      "outputs": []
    },
    {
      "cell_type": "code",
      "source": [
        "a.sort()\n",
        "a"
      ],
      "metadata": {
        "id": "BW2KcBltwxKT"
      },
      "execution_count": null,
      "outputs": []
    },
    {
      "cell_type": "code",
      "source": [
        "b"
      ],
      "metadata": {
        "id": "iQ76PTbEwx1l"
      },
      "execution_count": null,
      "outputs": []
    },
    {
      "cell_type": "code",
      "source": [
        "a=[[1,2],[3,4,]]\n",
        "a\n",
        "b=a[:]\n",
        "a[0][1]=100\n",
        "a\n",
        "b"
      ],
      "metadata": {
        "id": "1ps5UaZjVAwy"
      },
      "execution_count": null,
      "outputs": []
    },
    {
      "cell_type": "markdown",
      "source": [
        "스택 큐 구별\n",
        "튜플의 연산\n",
        "가변공간(플레이솔더)"
      ],
      "metadata": {
        "id": "A_s_wJbBXh2D"
      }
    },
    {
      "cell_type": "code",
      "source": [
        "3 or 4 # 숫자 vs 숫자 : 작은수"
      ],
      "metadata": {
        "id": "f_3UaV5nZCH9"
      },
      "execution_count": null,
      "outputs": []
    },
    {
      "cell_type": "code",
      "source": [
        "3 and 4 # 숫자 vs 숫자 : 큰 수"
      ],
      "metadata": {
        "id": "9ib0158qZERw"
      },
      "execution_count": null,
      "outputs": []
    },
    {
      "cell_type": "code",
      "source": [
        "3 & 4 # 논리연산자가 아님 비트연산자\n",
        "# 0011 & 0100->0000"
      ],
      "metadata": {
        "id": "K90ZM-rEZFyA"
      },
      "execution_count": null,
      "outputs": []
    },
    {
      "cell_type": "code",
      "source": [
        "a=10\n",
        "b=10"
      ],
      "metadata": {
        "id": "4_dqXh0-an7Y"
      },
      "execution_count": null,
      "outputs": []
    },
    {
      "cell_type": "code",
      "source": [
        "a=b"
      ],
      "metadata": {
        "id": "dV_AkBtNar8P"
      },
      "execution_count": null,
      "outputs": []
    },
    {
      "cell_type": "code",
      "source": [
        "a is b"
      ],
      "metadata": {
        "id": "xU3mfy1GashA"
      },
      "execution_count": null,
      "outputs": []
    },
    {
      "cell_type": "code",
      "source": [
        "a=300\n",
        "b=300"
      ],
      "metadata": {
        "id": "pghSTV1zavWB"
      },
      "execution_count": null,
      "outputs": []
    },
    {
      "cell_type": "code",
      "source": [
        "a==b"
      ],
      "metadata": {
        "id": "Mvam6NlZa3hR"
      },
      "execution_count": null,
      "outputs": []
    },
    {
      "cell_type": "code",
      "source": [
        "a is b"
      ],
      "metadata": {
        "id": "HmUZDdVba6t6"
      },
      "execution_count": null,
      "outputs": []
    },
    {
      "cell_type": "code",
      "source": [
        "a=-5\n",
        "b=-5\n",
        "a is b"
      ],
      "metadata": {
        "id": "fq0KmI3Fa-k4"
      },
      "execution_count": null,
      "outputs": []
    },
    {
      "cell_type": "code",
      "source": [
        "a=-6\n",
        "a=-6\n",
        "a is b"
      ],
      "metadata": {
        "id": "sJut_DYYbCpf"
      },
      "execution_count": null,
      "outputs": []
    },
    {
      "cell_type": "code",
      "source": [
        "a=[1,2,3,4,5]\n",
        "b=a[:]"
      ],
      "metadata": {
        "id": "8OXbock5bCk_"
      },
      "execution_count": null,
      "outputs": []
    },
    {
      "cell_type": "code",
      "source": [
        "a"
      ],
      "metadata": {
        "id": "XIBBLBgNbK5T"
      },
      "execution_count": null,
      "outputs": []
    },
    {
      "cell_type": "code",
      "source": [
        "b"
      ],
      "metadata": {
        "id": "-txvn92TbKp_"
      },
      "execution_count": null,
      "outputs": []
    },
    {
      "cell_type": "code",
      "source": [
        "a is b"
      ],
      "metadata": {
        "id": "1Yl0UilCbMVA"
      },
      "execution_count": null,
      "outputs": []
    },
    {
      "cell_type": "code",
      "source": [
        "import copy\n",
        "a=[1,2,3,4,5]\n",
        "b=copy.deepcopy(a)"
      ],
      "metadata": {
        "id": "-Pn-t4KtbOiX"
      },
      "execution_count": null,
      "outputs": []
    },
    {
      "cell_type": "code",
      "source": [
        "a"
      ],
      "metadata": {
        "id": "uFvwufqzbU2Z"
      },
      "execution_count": null,
      "outputs": []
    },
    {
      "cell_type": "code",
      "source": [
        "b"
      ],
      "metadata": {
        "id": "6wz7Q8AAbVK4"
      },
      "execution_count": null,
      "outputs": []
    },
    {
      "cell_type": "code",
      "source": [
        "a is b"
      ],
      "metadata": {
        "id": "u3w8jXsfbVd4"
      },
      "execution_count": null,
      "outputs": []
    },
    {
      "cell_type": "code",
      "source": [
        "a=100\n",
        "if a>0 and (a%2)==0:\n",
        "  print('a is even')"
      ],
      "metadata": {
        "id": "XKjdzpsscQv3"
      },
      "execution_count": null,
      "outputs": []
    },
    {
      "cell_type": "code",
      "source": [
        "5 and 7"
      ],
      "metadata": {
        "id": "wmEMRTdOcasw"
      },
      "execution_count": null,
      "outputs": []
    },
    {
      "cell_type": "code",
      "source": [
        "7 & 13 # 0111 & 1101"
      ],
      "metadata": {
        "id": "fNSL6M-NcoO_"
      },
      "execution_count": null,
      "outputs": []
    },
    {
      "cell_type": "code",
      "source": [
        "7 and 13"
      ],
      "metadata": {
        "id": "5N-0Q2kpcabB"
      },
      "execution_count": null,
      "outputs": []
    },
    {
      "cell_type": "code",
      "source": [
        "13 & 7 # 0111 & 1101"
      ],
      "metadata": {
        "id": "gG4QGrzvcpaX"
      },
      "execution_count": null,
      "outputs": []
    },
    {
      "cell_type": "code",
      "source": [
        "a=100\n",
        "if a>0 or (a%2)!=0:\n",
        "  print('a is even')"
      ],
      "metadata": {
        "id": "OIhamKQ0c6rS"
      },
      "execution_count": null,
      "outputs": []
    },
    {
      "cell_type": "code",
      "source": [
        "5 or 7"
      ],
      "metadata": {
        "id": "e129sMbldB9S"
      },
      "execution_count": null,
      "outputs": []
    },
    {
      "cell_type": "code",
      "source": [
        "7 or 13"
      ],
      "metadata": {
        "id": "ouvXu31pdB2A"
      },
      "execution_count": null,
      "outputs": []
    },
    {
      "cell_type": "code",
      "source": [
        "7 | 13 # | : 비트연산자로 작동 됨. # 0111 | 1101"
      ],
      "metadata": {
        "id": "qeLrFgVrdBqX"
      },
      "execution_count": null,
      "outputs": []
    },
    {
      "cell_type": "code",
      "source": [
        "13 | 7 # # 0111 | 1101"
      ],
      "metadata": {
        "id": "qH1AU2mxdBVn"
      },
      "execution_count": null,
      "outputs": []
    },
    {
      "cell_type": "markdown",
      "source": [
        "연습문제 5-1  \n",
        "b로 a를 나눈 나머지가 3초과면 실패 3이면 무승부, 3미만이면 성공이 출력되도록 만들어보자\n"
      ],
      "metadata": {
        "id": "S2RsL7XcdsFv"
      }
    },
    {
      "cell_type": "code",
      "source": [
        "a=34\n",
        "b=4\n",
        "if a%b>3:\n",
        "  print(\"실패\")\n",
        "elif a%b==3:\n",
        "  print(\"무승부\")\n",
        "else:\n",
        "  print(\"성공\")"
      ],
      "metadata": {
        "id": "5jRpHHBcd0G-"
      },
      "execution_count": null,
      "outputs": []
    },
    {
      "cell_type": "code",
      "source": [
        "a =34\n",
        "b =4 \n",
        "\n",
        "r = a%b\n",
        "\n",
        "if r>3:\n",
        "    print('실패')\n",
        "elif r==3:\n",
        "    print('무승부')\n",
        "else :\n",
        "    print('성공')"
      ],
      "metadata": {
        "id": "x_L-6SspgzpR"
      },
      "execution_count": null,
      "outputs": []
    },
    {
      "cell_type": "markdown",
      "source": [
        "연습문제 5-3  \n",
        "무슨 학교에 다니세요?\n",
        "태어난 연도를 계산하여 학교 종류를 맞추는 프로그램\n",
        "나이는 현재연도-태어난연도+1로 계산\n",
        "26세 이하 20세 이상이면 \"대학생\"\n",
        "20세 미만 17세 이상이면 \"고등학생\"\n",
        "17세 미만 14세 이상이면 \"중학생\"\n",
        "14세 미만 8세 이상이면 \"초등학생\"\n",
        "그외의 경우는 \"학생이 아닙니다\" 출력"
      ],
      "metadata": {
        "id": "fZVH6jX0fHyx"
      }
    },
    {
      "cell_type": "code",
      "source": [
        "year1=input(\"당신이 태어난 년도를 입력하세요\")\n",
        "age1=2023-int(year1)+1\n",
        "if 20<=age1<=26:\n",
        "  print(\"대학생\")\n",
        "elif 17<=age1<20:\n",
        "  print(\"고등학생\")\n",
        "elif 14<=age1<17:\n",
        "  print(\"중학생\")\n",
        "elif 8<=age1<14:\n",
        "  print(\"초등학생\")\n",
        "else:\n",
        "  print(\"학생이 아닙니다.\")"
      ],
      "metadata": {
        "id": "0dVfGMiAfGzL"
      },
      "execution_count": null,
      "outputs": []
    },
    {
      "cell_type": "code",
      "source": [
        "birth_year = int(input('당신의 태어난 년도를 입력해주세요.'))\n",
        "\n",
        "age = 2023 - birth_year+1\n",
        "\n",
        "message = \"\"\n",
        "\n",
        "if 20<=age and age<=26:\n",
        "    message=\"대학생\"\n",
        "elif 17<=age and age<20:\n",
        "    message=\"고등학생\"\n",
        "elif 14<=age and age<17:\n",
        "    message=\"중학생\"\n",
        "elif 8<=age and age<14:\n",
        "    message=\"초등학생\"\n",
        "else:\n",
        "    print('학생이 아닙니다.')\n",
        "\n",
        "print(message)  "
      ],
      "metadata": {
        "id": "wokQ5aXChFGe"
      },
      "execution_count": null,
      "outputs": []
    },
    {
      "cell_type": "markdown",
      "source": [
        "연습문제 5-5  \n",
        "양의 정수 하나를 입력받아 이 정수가 2의 배수인지 3의 배수인지 작성하시오\n"
      ],
      "metadata": {
        "id": "nl2Tja-ShYwZ"
      }
    },
    {
      "cell_type": "code",
      "source": [
        "num1=int(input(\"양의정수\"))\n",
        "\n",
        "if num1%2==0 :\n",
        "  if num1%3==0 :\n",
        "    print(\"2와 3의 배수\")\n",
        "  else :\n",
        "    print(\"2의배수\")\n",
        "elif num1%3==0 :\n",
        "  print(\"3의배수\")\n",
        "else:\n",
        "  print(\"숫자\")"
      ],
      "metadata": {
        "id": "xRtoh7kThWZW"
      },
      "execution_count": null,
      "outputs": []
    },
    {
      "cell_type": "code",
      "source": [
        "num = int(input('정수를 하나 입력하세요.'))\n",
        "\n",
        "if num %2==0:\n",
        "    if num%3==0:\n",
        "        print('2와 3으로 나누어 집니다.')\n",
        "    else : \n",
        "        print('2로 나누어집니다.')\n",
        "elif num %3==0:\n",
        "    print('3으로 나누어 집니다.')\n",
        "else:\n",
        "    print('어느 것으로도 나누어지지 않습니다.')"
      ],
      "metadata": {
        "id": "rRnI_UCfiy_W"
      },
      "execution_count": null,
      "outputs": []
    },
    {
      "cell_type": "code",
      "source": [
        "for i in range(5,-1,-1):\n",
        "  print(i)"
      ],
      "metadata": {
        "id": "8X3-mCBu3Bs7"
      },
      "execution_count": null,
      "outputs": []
    },
    {
      "cell_type": "markdown",
      "source": [
        "변수의 범위 지정하기  \n",
        "2) 자료형으로 범위"
      ],
      "metadata": {
        "id": "ZEsXK-bu6T9R"
      }
    },
    {
      "cell_type": "code",
      "source": [
        "word='hello'\n",
        "for i in word:\n",
        "  print(i)"
      ],
      "metadata": {
        "id": "dTMUNw_D6XXB"
      },
      "execution_count": null,
      "outputs": []
    },
    {
      "cell_type": "code",
      "source": [
        "i=0\n",
        "for j in range(0,11):\n",
        "  i=j+1\n",
        "  print(i)"
      ],
      "metadata": {
        "id": "6lep5Bp46hCZ"
      },
      "execution_count": null,
      "outputs": []
    },
    {
      "cell_type": "markdown",
      "source": [
        "(1) 계단형"
      ],
      "metadata": {
        "id": "hUlBR2AyA_zY"
      }
    },
    {
      "cell_type": "code",
      "source": [
        "n=int(input(\"n:\"))\n",
        "for i in range(n):\n",
        "  print(\" \"*i, end=\"\") # end의 역할 sep와 비슷한 기능(구분자로 사용)\n",
        "  print(\"*\"*n)"
      ],
      "metadata": {
        "id": "8uhZ5rxNAsew"
      },
      "execution_count": null,
      "outputs": []
    },
    {
      "cell_type": "markdown",
      "source": [
        "(2) 삼각형"
      ],
      "metadata": {
        "id": "ihfJVG2zBDPY"
      }
    },
    {
      "cell_type": "code",
      "source": [
        "n=int(input(\"n:\"))\n",
        "for i in range(1, n+1):\n",
        "  print(\"*\"*i)  "
      ],
      "metadata": {
        "id": "OhHmDugABFix"
      },
      "execution_count": null,
      "outputs": []
    },
    {
      "cell_type": "markdown",
      "source": [
        "(2)-1"
      ],
      "metadata": {
        "id": "3qjE8QTlBbzo"
      }
    },
    {
      "cell_type": "code",
      "source": [
        "n=int(input(\"n:\"))\n",
        "for i in range(1, n+1):\n",
        "  print(\" \"*(n-i), end=\"\")\n",
        "  print(\"*\"*i)"
      ],
      "metadata": {
        "id": "lGWdYaNhBg1Q"
      },
      "execution_count": null,
      "outputs": []
    },
    {
      "cell_type": "markdown",
      "source": [
        "(3) 역삼각형"
      ],
      "metadata": {
        "id": "nTh6VQrZC9kR"
      }
    },
    {
      "cell_type": "code",
      "source": [
        "n=int(input(\"n:\"))\n",
        "for i in range(n):\n",
        "  print(\"*\"*(n-i))"
      ],
      "metadata": {
        "id": "Q6G2_RsMBuM_"
      },
      "execution_count": null,
      "outputs": []
    },
    {
      "cell_type": "markdown",
      "source": [
        "(3)-1"
      ],
      "metadata": {
        "id": "f3kP7SnmDAIs"
      }
    },
    {
      "cell_type": "code",
      "source": [
        "n=int(input(\"n:\"))\n",
        "for i in range(n):\n",
        "  print(\" \"*i, end=\"\")\n",
        "  print(\"*\"*(n-i))"
      ],
      "metadata": {
        "id": "4RiLJYUfCTaI"
      },
      "execution_count": null,
      "outputs": []
    },
    {
      "cell_type": "markdown",
      "source": [
        "(4) 피라미드"
      ],
      "metadata": {
        "id": "N_MeE8QDDBtA"
      }
    },
    {
      "cell_type": "code",
      "source": [
        "n=int(input(\"n:\"))\n",
        "for i in range(1, n+1):\n",
        "  print(\" \"*(n-i), end=\"\")\n",
        "  print(\"*\"*(2*i-1))"
      ],
      "metadata": {
        "id": "Phz8DZrfCWRI"
      },
      "execution_count": null,
      "outputs": []
    },
    {
      "cell_type": "markdown",
      "source": [
        "참고 : https://songsw.tistory.com/30"
      ],
      "metadata": {
        "id": "OwNC8CiEEz3H"
      }
    },
    {
      "cell_type": "markdown",
      "source": [
        "연습문제 3"
      ],
      "metadata": {
        "id": "TeLnQl4NGho_"
      }
    },
    {
      "cell_type": "code",
      "source": [
        "x=[3,6,9,20,-7,5]"
      ],
      "metadata": {
        "id": "1d6nXZOpG06v"
      },
      "execution_count": null,
      "outputs": []
    },
    {
      "cell_type": "code",
      "source": [
        "for i in x:\n",
        "  print(i*10)"
      ],
      "metadata": {
        "id": "twgvYSg6E1_x"
      },
      "execution_count": null,
      "outputs": []
    },
    {
      "cell_type": "code",
      "source": [
        "# 심화\n",
        "for i in range(0,len(x)):\n",
        "  x[i]=x[i]*10\n",
        "print(x)"
      ],
      "metadata": {
        "id": "DntvFisAGoQ2"
      },
      "execution_count": null,
      "outputs": []
    },
    {
      "cell_type": "markdown",
      "source": [
        "2번 문제"
      ],
      "metadata": {
        "id": "-UNxEzKTHvF3"
      }
    },
    {
      "cell_type": "code",
      "source": [
        "y={\"math\":70, \"science\":80, \"english\":20}\n",
        "for key in y:\n",
        "  val=y[key]\n",
        "  y[key]=y[key]+10\n",
        "  print(\"%s:%d\"%(key,val+10))"
      ],
      "metadata": {
        "id": "EJsEnPEUHb1i"
      },
      "execution_count": null,
      "outputs": []
    },
    {
      "cell_type": "markdown",
      "source": [
        "p.191 임의의 값 할당"
      ],
      "metadata": {
        "id": "TNT9nhVSM-P5"
      }
    },
    {
      "cell_type": "code",
      "source": [
        "import random\n",
        "true_value=random.randint(1,100) \n",
        "input_value=99999 # 임의의 값 할당\n",
        "print(\"숫자를 맞춰보세요(1~100):\")\n",
        "num1=int(input(\"숫자 입력:\"))\n",
        "while True:\n",
        "  if input_value>num1:\n",
        "    print(\"숫자가 너무 작습니다.\")\n",
        "    num1=int(input(\"숫자 입력:\"))\n",
        "    continue\n",
        "  elif input_value<num1:\n",
        "    print(\"숫자가 너무 큽니다.\")\n",
        "    num1=int(input(\"숫자 입력:\"))\n",
        "    continue\n",
        "  else:\n",
        "    break\n",
        "print(\"정답입니다. 입력한 숫자는\",input_value,\"입니다.\")\n"
      ],
      "metadata": {
        "id": "Kpz3Dlh4IV5o"
      },
      "execution_count": null,
      "outputs": []
    },
    {
      "cell_type": "code",
      "source": [
        "import random\n",
        "true_value=random.randint(1,100) \n",
        "input_value=99999 # 임의의 값 할당\n",
        "print(\"숫자를 맞춰보세요.\")\n",
        "\n",
        "while true_value !=input_value:\n",
        "  input_value=int(input())\n",
        "\n",
        "  if input_value>true_value:\n",
        "    print(\"숫자가 너무 큽니다.\") # 사용자의 입력값이 true_value보다 클때\n",
        "  else:\n",
        "    print(\"숫자가 너무 작습니다.\") # 사용자의 입력값이 true_value보다 작을때\n",
        "print(f\"정답입니다. 입력한숫자는 {true_value}입니다.\")"
      ],
      "metadata": {
        "id": "tk3bO3LrM3_m"
      },
      "execution_count": null,
      "outputs": []
    },
    {
      "cell_type": "markdown",
      "source": [
        "연습문제5\n",
        "word=[\"shool\", \"game\", \"piano\",\"science\", \"hotel\",\"mountain\"] 중 글자수가 6글자 이상인 문자를 모아 새로운 리스트를 생성하세요"
      ],
      "metadata": {
        "id": "2ptkuRuYOPC-"
      }
    },
    {
      "cell_type": "code",
      "source": [
        "word=[\"school\", \"game\", \"piano\",\"science\", \"hotel\",\"mountain\"]\n",
        "a=list()\n",
        "for i in range(len(word)):\n",
        "  if len(word[i])>=6:\n",
        "    a.append(word[i])\n",
        "print(a)"
      ],
      "metadata": {
        "id": "YMdmzoFFOQd-"
      },
      "execution_count": null,
      "outputs": []
    },
    {
      "cell_type": "markdown",
      "source": [
        "P.193 연습문제6"
      ],
      "metadata": {
        "id": "IP3ckb1aTJQ9"
      }
    },
    {
      "cell_type": "code",
      "source": [
        "for i in range(1,101):\n",
        "  if i%3==0 and i%5==0:\n",
        "    print(\"3과5의공배수\")\n",
        "  elif i%3==0:\n",
        "    print(\"3의 배수\")\n",
        "  elif i%5==0:\n",
        "    print(\"5의 배수\")\n",
        "  else:\n",
        "    print(i)"
      ],
      "metadata": {
        "id": "pb01gaZTRUrV"
      },
      "execution_count": null,
      "outputs": []
    },
    {
      "cell_type": "code",
      "source": [
        "# 심화문제\n",
        "\n",
        "b=int(input(\"정수를 입력하세요.\"))\n",
        "if b<=0:\n",
        "  print(\"음수는 정의하지않음\")\n",
        "else:\n",
        "  for i in range(1,b+1):\n",
        "    if i%3==0 and i%5==0:\n",
        "      print(\"3과 5의 공배수\")\n",
        "    elif i%3==0:\n",
        "      print(\"3의 배수\")\n",
        "    elif i%5==0:\n",
        "      print(\"5의 배수\")\n",
        "    elif 1<=i<=100:\n",
        "      print(i)\n",
        "    else:\n",
        "      print('1과 100사이 숫자가 아닙니다.')"
      ],
      "metadata": {
        "id": "sl1qJpSqTs_s"
      },
      "execution_count": null,
      "outputs": []
    },
    {
      "cell_type": "markdown",
      "source": [
        "연습문제7  \n",
        "사용자로부터 숫자를 계속 입력받다가 s or S를 입력하면 합계출력"
      ],
      "metadata": {
        "id": "PIfXNRYEU2Rl"
      }
    },
    {
      "cell_type": "code",
      "source": [
        "4c=0\n",
        "d=1\n",
        "while (d==1):\n",
        "  a=input()\n",
        "  if a==\"s\" or a==\"S\":\n",
        "    d=0\n",
        "  else:\n",
        "    a=int(a)\n",
        "    c+=a\n",
        "print(c)"
      ],
      "metadata": {
        "id": "JByg8o-eU3Kj",
        "colab": {
          "base_uri": "https://localhost:8080/"
        },
        "outputId": "767eb736-a547-409d-95fb-bc4717f923f9"
      },
      "execution_count": null,
      "outputs": [
        {
          "output_type": "stream",
          "name": "stdout",
          "text": [
            "50\n",
            "0\n",
            "30\n",
            "20\n",
            "s\n",
            "100\n"
          ]
        }
      ]
    },
    {
      "cell_type": "markdown",
      "source": [
        "얀습문제8  \n",
        "사람별 평균을 구하라."
      ],
      "metadata": {
        "id": "JO2CCXs0WlmL"
      }
    },
    {
      "cell_type": "code",
      "source": [
        "kor_score = [39,69,29,100,80]\n",
        "math_score = [32,59,85,30,90]\n",
        "eng_score = [49,70,48,60,100]\n",
        "\n",
        "mideterm_score = [kor_score, math_score,eng_score]\n",
        "\n",
        "student_score=[0,0,0,0,0]\n",
        "i=0\n",
        "for subject in mideterm_score: #kor,math,eng 과목 선택\n",
        "    for score in subject: #과목 선택후\n",
        "        student_score[i]+=score #각 학생마다 개별로 교과 점수를 저장\n",
        "        # print(subject,score,'i:',i,student_score) #kor->math->eng \n",
        "        i+=1 #학생 index 구분\n",
        "    i=0 # 과목이 바뀔 때 학생 인덱스\n",
        "else:\n",
        "    a,b,c,d,e = student_score  #학생별 점수를 unpacking\n",
        "    student_average=[a/3,b/3,c/3,d/3,e/3]\n",
        "    print(student_average)"
      ],
      "metadata": {
        "colab": {
          "base_uri": "https://localhost:8080/"
        },
        "id": "Zrd3Hr66c__y",
        "outputId": "1ece9d8d-11df-4a65-b38a-8e792c811026"
      },
      "execution_count": null,
      "outputs": [
        {
          "output_type": "stream",
          "name": "stdout",
          "text": [
            "[40.0, 66.0, 54.0, 63.333333333333336, 90.0]\n"
          ]
        }
      ]
    },
    {
      "cell_type": "code",
      "source": [
        "print(\"나눗셈을 진행합니다. {:.20f}\".format(1/3))"
      ],
      "metadata": {
        "colab": {
          "base_uri": "https://localhost:8080/"
        },
        "id": "_DSd9Of0ez_I",
        "outputId": "92d40903-7370-4038-8f14-1e05a3cf6ed9"
      },
      "execution_count": null,
      "outputs": [
        {
          "output_type": "stream",
          "name": "stdout",
          "text": [
            "나눗셈을 진행합니다. 0.33333333333333331483\n"
          ]
        }
      ]
    },
    {
      "cell_type": "markdown",
      "source": [
        "https://colab.research.google.com/drive/1ui5VjU3VbQ0D6SbgruuEm759wqgNFdWN?usp=sharing#scrollTo=BLePwOWUHCEM"
      ],
      "metadata": {
        "id": "qocVETKZfxum"
      }
    }
  ]
}
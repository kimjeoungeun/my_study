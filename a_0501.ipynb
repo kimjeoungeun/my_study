{
  "nbformat": 4,
  "nbformat_minor": 0,
  "metadata": {
    "colab": {
      "provenance": [],
      "authorship_tag": "ABX9TyNPI0RwR8gYrchDET7QLc2v",
      "include_colab_link": true
    },
    "kernelspec": {
      "name": "python3",
      "display_name": "Python 3"
    },
    "language_info": {
      "name": "python"
    }
  },
  "cells": [
    {
      "cell_type": "markdown",
      "metadata": {
        "id": "view-in-github",
        "colab_type": "text"
      },
      "source": [
        "<a href=\"https://colab.research.google.com/github/kje0058/my_study/blob/main/a_0501.ipynb\" target=\"_parent\"><img src=\"https://colab.research.google.com/assets/colab-badge.svg\" alt=\"Open In Colab\"/></a>"
      ]
    },
    {
      "cell_type": "code",
      "source": [
        "a=[5,4,3,2,1]\n",
        "b=a[:]"
      ],
      "metadata": {
        "id": "0Fe2RJTMUbPa"
      },
      "execution_count": null,
      "outputs": []
    },
    {
      "cell_type": "code",
      "source": [
        "print(id(a),id(b))"
      ],
      "metadata": {
        "colab": {
          "base_uri": "https://localhost:8080/"
        },
        "id": "0xZnCl9DaQoE",
        "outputId": "20a57456-5ff6-4b23-babe-6e5f72611b2b"
      },
      "execution_count": null,
      "outputs": [
        {
          "output_type": "stream",
          "name": "stdout",
          "text": [
            "140253203628288 140253204122624\n"
          ]
        }
      ]
    },
    {
      "cell_type": "code",
      "source": [
        "b"
      ],
      "metadata": {
        "colab": {
          "base_uri": "https://localhost:8080/"
        },
        "id": "YLGrZeMcaR9x",
        "outputId": "0a8fbf4b-5969-469b-d586-e723cf753bb6"
      },
      "execution_count": null,
      "outputs": [
        {
          "output_type": "execute_result",
          "data": {
            "text/plain": [
              "[5, 4, 3, 2, 1]"
            ]
          },
          "metadata": {},
          "execution_count": 23
        }
      ]
    },
    {
      "cell_type": "code",
      "source": [
        "a.sort()"
      ],
      "metadata": {
        "id": "uqAhZVj8aT_Z"
      },
      "execution_count": null,
      "outputs": []
    },
    {
      "cell_type": "code",
      "source": [
        "a"
      ],
      "metadata": {
        "colab": {
          "base_uri": "https://localhost:8080/"
        },
        "id": "wNp2f_EtaV2p",
        "outputId": "4d150e1a-036c-4c98-93ce-cc97536da549"
      },
      "execution_count": null,
      "outputs": [
        {
          "output_type": "execute_result",
          "data": {
            "text/plain": [
              "[1, 2, 3, 4, 5]"
            ]
          },
          "metadata": {},
          "execution_count": 27
        }
      ]
    },
    {
      "cell_type": "code",
      "source": [
        "b"
      ],
      "metadata": {
        "colab": {
          "base_uri": "https://localhost:8080/"
        },
        "id": "YWZgIYNxaWtB",
        "outputId": "5f0afcf1-1e94-457f-fc69-e1ae6bdbf5fa"
      },
      "execution_count": null,
      "outputs": [
        {
          "output_type": "execute_result",
          "data": {
            "text/plain": [
              "[5, 4, 3, 2, 1]"
            ]
          },
          "metadata": {},
          "execution_count": 28
        }
      ]
    },
    {
      "cell_type": "code",
      "source": [],
      "metadata": {
        "id": "gvMWB0gTam5M"
      },
      "execution_count": null,
      "outputs": []
    },
    {
      "cell_type": "code",
      "source": [
        "a=[5,4,3,2,1]\n",
        "b=a.copy()\n",
        "print(id(a),id(b))"
      ],
      "metadata": {
        "colab": {
          "base_uri": "https://localhost:8080/"
        },
        "id": "gWESzgAQTPIU",
        "outputId": "267d5984-7ad0-4cba-84aa-73a4f926c294"
      },
      "execution_count": 67,
      "outputs": [
        {
          "output_type": "stream",
          "name": "stdout",
          "text": [
            "140252851100672 140253204006784\n"
          ]
        }
      ]
    },
    {
      "cell_type": "code",
      "source": [
        "a.sort()\n",
        "a"
      ],
      "metadata": {
        "colab": {
          "base_uri": "https://localhost:8080/"
        },
        "id": "zi-gccGOwbdb",
        "outputId": "d5d50cb2-459d-40af-b36d-e75e1a6d94d7"
      },
      "execution_count": 71,
      "outputs": [
        {
          "output_type": "execute_result",
          "data": {
            "text/plain": [
              "[1, 2, 3, 4, 5]"
            ]
          },
          "metadata": {},
          "execution_count": 71
        }
      ]
    },
    {
      "cell_type": "code",
      "source": [
        "b"
      ],
      "metadata": {
        "colab": {
          "base_uri": "https://localhost:8080/"
        },
        "id": "9_LBHgh8wY_D",
        "outputId": "25763e87-163e-4975-e0bd-8220aa920ceb"
      },
      "execution_count": 69,
      "outputs": [
        {
          "output_type": "execute_result",
          "data": {
            "text/plain": [
              "[5, 4, 3, 2, 1]"
            ]
          },
          "metadata": {},
          "execution_count": 69
        }
      ]
    },
    {
      "cell_type": "code",
      "source": [
        "a"
      ],
      "metadata": {
        "colab": {
          "base_uri": "https://localhost:8080/"
        },
        "id": "TcZyvrt6wY08",
        "outputId": "7dc84bb3-5abd-456f-e46b-d9696ba6f103"
      },
      "execution_count": 70,
      "outputs": [
        {
          "output_type": "execute_result",
          "data": {
            "text/plain": [
              "[1, 2, 3, 4, 5]"
            ]
          },
          "metadata": {},
          "execution_count": 70
        }
      ]
    },
    {
      "cell_type": "code",
      "source": [
        "import copy\n",
        "a=[5,4,3,2,1]\n",
        "b=copy.deepcopy(a)\n",
        "print(id(a),id(b))"
      ],
      "metadata": {
        "colab": {
          "base_uri": "https://localhost:8080/"
        },
        "id": "lbQk48oYUHgr",
        "outputId": "be40fa6b-b181-45ec-d334-4f6c8d2c80e0"
      },
      "execution_count": null,
      "outputs": [
        {
          "output_type": "stream",
          "name": "stdout",
          "text": [
            "140252850746880 140252850504768\n"
          ]
        },
        {
          "output_type": "execute_result",
          "data": {
            "text/plain": [
              "[1, 2, 3, 4, 5]"
            ]
          },
          "metadata": {},
          "execution_count": 14
        }
      ]
    },
    {
      "cell_type": "code",
      "source": [
        "a.sort()\n",
        "a"
      ],
      "metadata": {
        "colab": {
          "base_uri": "https://localhost:8080/"
        },
        "id": "MQXpW_1cwpa1",
        "outputId": "d43249e9-552e-4cb9-b87e-565fe82eb99e"
      },
      "execution_count": 72,
      "outputs": [
        {
          "output_type": "execute_result",
          "data": {
            "text/plain": [
              "[1, 2, 3, 4, 5]"
            ]
          },
          "metadata": {},
          "execution_count": 72
        }
      ]
    },
    {
      "cell_type": "code",
      "source": [
        "b"
      ],
      "metadata": {
        "colab": {
          "base_uri": "https://localhost:8080/"
        },
        "id": "FnBqldttwpIE",
        "outputId": "c68ae1f8-ff82-43ae-e83a-ff77f83fbd97"
      },
      "execution_count": 73,
      "outputs": [
        {
          "output_type": "execute_result",
          "data": {
            "text/plain": [
              "[5, 4, 3, 2, 1]"
            ]
          },
          "metadata": {},
          "execution_count": 73
        }
      ]
    },
    {
      "cell_type": "code",
      "source": [
        "a"
      ],
      "metadata": {
        "colab": {
          "base_uri": "https://localhost:8080/"
        },
        "id": "9c0VHlf6wrOT",
        "outputId": "4baf48dd-ad0a-4499-c60c-15c237180900"
      },
      "execution_count": 74,
      "outputs": [
        {
          "output_type": "execute_result",
          "data": {
            "text/plain": [
              "[1, 2, 3, 4, 5]"
            ]
          },
          "metadata": {},
          "execution_count": 74
        }
      ]
    },
    {
      "cell_type": "code",
      "source": [
        "a=[5,4,3,2,1]\n",
        "b=a[:]\n",
        "print(id(a),id(b))"
      ],
      "metadata": {
        "colab": {
          "base_uri": "https://localhost:8080/"
        },
        "id": "aFI2aSwYU17C",
        "outputId": "5f2d9019-094c-4e3d-d335-d0d7ae92163b"
      },
      "execution_count": null,
      "outputs": [
        {
          "output_type": "stream",
          "name": "stdout",
          "text": [
            "140252852298816 140252852304128\n"
          ]
        },
        {
          "output_type": "execute_result",
          "data": {
            "text/plain": [
              "[5, 4, 3, 2, 1]"
            ]
          },
          "metadata": {},
          "execution_count": 10
        }
      ]
    },
    {
      "cell_type": "code",
      "source": [
        "b"
      ],
      "metadata": {
        "colab": {
          "base_uri": "https://localhost:8080/"
        },
        "id": "X0MMO9ugwwWb",
        "outputId": "f8dadf5b-4811-4f33-ade5-ec2a1b42ace1"
      },
      "execution_count": 75,
      "outputs": [
        {
          "output_type": "execute_result",
          "data": {
            "text/plain": [
              "[5, 4, 3, 2, 1]"
            ]
          },
          "metadata": {},
          "execution_count": 75
        }
      ]
    },
    {
      "cell_type": "code",
      "source": [
        "a.sort()\n",
        "a"
      ],
      "metadata": {
        "colab": {
          "base_uri": "https://localhost:8080/"
        },
        "id": "BW2KcBltwxKT",
        "outputId": "3e95468d-a4e5-492b-d97f-fb262559e3a7"
      },
      "execution_count": 76,
      "outputs": [
        {
          "output_type": "execute_result",
          "data": {
            "text/plain": [
              "[1, 2, 3, 4, 5]"
            ]
          },
          "metadata": {},
          "execution_count": 76
        }
      ]
    },
    {
      "cell_type": "code",
      "source": [
        "b"
      ],
      "metadata": {
        "colab": {
          "base_uri": "https://localhost:8080/"
        },
        "id": "iQ76PTbEwx1l",
        "outputId": "2f88682b-a98c-4193-8bed-d7263c023087"
      },
      "execution_count": 77,
      "outputs": [
        {
          "output_type": "execute_result",
          "data": {
            "text/plain": [
              "[5, 4, 3, 2, 1]"
            ]
          },
          "metadata": {},
          "execution_count": 77
        }
      ]
    },
    {
      "cell_type": "code",
      "source": [
        "a=[[1,2],[3,4,]]\n",
        "a\n",
        "b=a[:]\n",
        "a[0][1]=100\n",
        "a\n",
        "b"
      ],
      "metadata": {
        "colab": {
          "base_uri": "https://localhost:8080/"
        },
        "id": "1ps5UaZjVAwy",
        "outputId": "d6795f10-835b-4457-9b83-06570a8023f8"
      },
      "execution_count": 79,
      "outputs": [
        {
          "output_type": "execute_result",
          "data": {
            "text/plain": [
              "[[1, 100], [3, 4]]"
            ]
          },
          "metadata": {},
          "execution_count": 79
        }
      ]
    },
    {
      "cell_type": "markdown",
      "source": [
        "스택 큐 구별\n",
        "튜플의 연산\n",
        "가변공간(플레이솔더)"
      ],
      "metadata": {
        "id": "A_s_wJbBXh2D"
      }
    },
    {
      "cell_type": "code",
      "source": [
        "3 or 4 # 숫자 vs 숫자 : 작은수"
      ],
      "metadata": {
        "colab": {
          "base_uri": "https://localhost:8080/"
        },
        "id": "f_3UaV5nZCH9",
        "outputId": "6231db2c-3f3c-488c-fefc-5532ea1ebc35"
      },
      "execution_count": null,
      "outputs": [
        {
          "output_type": "execute_result",
          "data": {
            "text/plain": [
              "3"
            ]
          },
          "metadata": {},
          "execution_count": 18
        }
      ]
    },
    {
      "cell_type": "code",
      "source": [
        "3 and 4 # 숫자 vs 숫자 : 큰 수"
      ],
      "metadata": {
        "colab": {
          "base_uri": "https://localhost:8080/"
        },
        "id": "9ib0158qZERw",
        "outputId": "32c3ca73-dfe5-4cb7-8a5c-9d1330e0e7ee"
      },
      "execution_count": null,
      "outputs": [
        {
          "output_type": "execute_result",
          "data": {
            "text/plain": [
              "4"
            ]
          },
          "metadata": {},
          "execution_count": 19
        }
      ]
    },
    {
      "cell_type": "code",
      "source": [
        "3 & 4 # 논리연산자가 아님 비트연산자\n",
        "# 0011 & 0100->0000"
      ],
      "metadata": {
        "colab": {
          "base_uri": "https://localhost:8080/"
        },
        "id": "K90ZM-rEZFyA",
        "outputId": "8a89083f-2e65-40fd-f5ca-39b17773dda4"
      },
      "execution_count": null,
      "outputs": [
        {
          "output_type": "execute_result",
          "data": {
            "text/plain": [
              "0"
            ]
          },
          "metadata": {},
          "execution_count": 20
        }
      ]
    },
    {
      "cell_type": "code",
      "source": [
        "a=10\n",
        "b=10"
      ],
      "metadata": {
        "id": "4_dqXh0-an7Y"
      },
      "execution_count": null,
      "outputs": []
    },
    {
      "cell_type": "code",
      "source": [
        "a=b"
      ],
      "metadata": {
        "id": "dV_AkBtNar8P"
      },
      "execution_count": null,
      "outputs": []
    },
    {
      "cell_type": "code",
      "source": [
        "a is b"
      ],
      "metadata": {
        "colab": {
          "base_uri": "https://localhost:8080/"
        },
        "id": "xU3mfy1GashA",
        "outputId": "67cdca1e-748d-4704-e136-f5eb71b30570"
      },
      "execution_count": null,
      "outputs": [
        {
          "output_type": "execute_result",
          "data": {
            "text/plain": [
              "True"
            ]
          },
          "metadata": {},
          "execution_count": 31
        }
      ]
    },
    {
      "cell_type": "code",
      "source": [
        "a=300\n",
        "b=300"
      ],
      "metadata": {
        "id": "pghSTV1zavWB"
      },
      "execution_count": null,
      "outputs": []
    },
    {
      "cell_type": "code",
      "source": [
        "a==b"
      ],
      "metadata": {
        "colab": {
          "base_uri": "https://localhost:8080/"
        },
        "id": "Mvam6NlZa3hR",
        "outputId": "369250fd-b325-4e37-988c-424827bd0e03"
      },
      "execution_count": null,
      "outputs": [
        {
          "output_type": "execute_result",
          "data": {
            "text/plain": [
              "True"
            ]
          },
          "metadata": {},
          "execution_count": 33
        }
      ]
    },
    {
      "cell_type": "code",
      "source": [
        "a is b"
      ],
      "metadata": {
        "colab": {
          "base_uri": "https://localhost:8080/"
        },
        "id": "HmUZDdVba6t6",
        "outputId": "c7506f0d-88a7-4227-f66a-5881fb1b8496"
      },
      "execution_count": null,
      "outputs": [
        {
          "output_type": "execute_result",
          "data": {
            "text/plain": [
              "False"
            ]
          },
          "metadata": {},
          "execution_count": 34
        }
      ]
    },
    {
      "cell_type": "code",
      "source": [
        "a=-5\n",
        "b=-5\n",
        "a is b"
      ],
      "metadata": {
        "colab": {
          "base_uri": "https://localhost:8080/"
        },
        "id": "fq0KmI3Fa-k4",
        "outputId": "2c882fde-7b01-4da2-ab33-9dfd3dcb35fe"
      },
      "execution_count": null,
      "outputs": [
        {
          "output_type": "execute_result",
          "data": {
            "text/plain": [
              "True"
            ]
          },
          "metadata": {},
          "execution_count": 35
        }
      ]
    },
    {
      "cell_type": "code",
      "source": [
        "a=-6\n",
        "a=-6\n",
        "a is b"
      ],
      "metadata": {
        "colab": {
          "base_uri": "https://localhost:8080/"
        },
        "id": "sJut_DYYbCpf",
        "outputId": "d6bacbd4-7015-40c5-c4f7-bf3184a63553"
      },
      "execution_count": null,
      "outputs": [
        {
          "output_type": "execute_result",
          "data": {
            "text/plain": [
              "False"
            ]
          },
          "metadata": {},
          "execution_count": 36
        }
      ]
    },
    {
      "cell_type": "code",
      "source": [
        "a=[1,2,3,4,5]\n",
        "b=a[:]"
      ],
      "metadata": {
        "id": "8OXbock5bCk_"
      },
      "execution_count": null,
      "outputs": []
    },
    {
      "cell_type": "code",
      "source": [
        "a"
      ],
      "metadata": {
        "colab": {
          "base_uri": "https://localhost:8080/"
        },
        "id": "XIBBLBgNbK5T",
        "outputId": "b9fa4d00-8bee-4f89-ca4d-35614ddc2740"
      },
      "execution_count": null,
      "outputs": [
        {
          "output_type": "execute_result",
          "data": {
            "text/plain": [
              "[1, 2, 3, 4, 5]"
            ]
          },
          "metadata": {},
          "execution_count": 38
        }
      ]
    },
    {
      "cell_type": "code",
      "source": [
        "b"
      ],
      "metadata": {
        "colab": {
          "base_uri": "https://localhost:8080/"
        },
        "id": "-txvn92TbKp_",
        "outputId": "991c0cca-941e-4f97-e056-216b1183f86f"
      },
      "execution_count": null,
      "outputs": [
        {
          "output_type": "execute_result",
          "data": {
            "text/plain": [
              "[1, 2, 3, 4, 5]"
            ]
          },
          "metadata": {},
          "execution_count": 39
        }
      ]
    },
    {
      "cell_type": "code",
      "source": [
        "a is b"
      ],
      "metadata": {
        "colab": {
          "base_uri": "https://localhost:8080/"
        },
        "id": "1Yl0UilCbMVA",
        "outputId": "6f92b44d-e924-47d5-a465-fb48e26802e4"
      },
      "execution_count": null,
      "outputs": [
        {
          "output_type": "execute_result",
          "data": {
            "text/plain": [
              "False"
            ]
          },
          "metadata": {},
          "execution_count": 40
        }
      ]
    },
    {
      "cell_type": "code",
      "source": [
        "import copy\n",
        "a=[1,2,3,4,5]\n",
        "b=copy.deepcopy(a)"
      ],
      "metadata": {
        "id": "-Pn-t4KtbOiX"
      },
      "execution_count": null,
      "outputs": []
    },
    {
      "cell_type": "code",
      "source": [
        "a"
      ],
      "metadata": {
        "colab": {
          "base_uri": "https://localhost:8080/"
        },
        "id": "uFvwufqzbU2Z",
        "outputId": "f0ea1614-08ee-4ca4-fec7-857afc209735"
      },
      "execution_count": null,
      "outputs": [
        {
          "output_type": "execute_result",
          "data": {
            "text/plain": [
              "[1, 2, 3, 4, 5]"
            ]
          },
          "metadata": {},
          "execution_count": 42
        }
      ]
    },
    {
      "cell_type": "code",
      "source": [
        "b"
      ],
      "metadata": {
        "colab": {
          "base_uri": "https://localhost:8080/"
        },
        "id": "6wz7Q8AAbVK4",
        "outputId": "e4adb123-cb2c-4184-8bd0-bbe94d77b499"
      },
      "execution_count": null,
      "outputs": [
        {
          "output_type": "execute_result",
          "data": {
            "text/plain": [
              "[1, 2, 3, 4, 5]"
            ]
          },
          "metadata": {},
          "execution_count": 43
        }
      ]
    },
    {
      "cell_type": "code",
      "source": [
        "a is b"
      ],
      "metadata": {
        "colab": {
          "base_uri": "https://localhost:8080/"
        },
        "id": "u3w8jXsfbVd4",
        "outputId": "4e3990e1-42b9-49bf-d8a8-56cb40571594"
      },
      "execution_count": null,
      "outputs": [
        {
          "output_type": "execute_result",
          "data": {
            "text/plain": [
              "False"
            ]
          },
          "metadata": {},
          "execution_count": 44
        }
      ]
    },
    {
      "cell_type": "code",
      "source": [
        "a=100\n",
        "if a>0 and (a%2)==0:\n",
        "  print('a is even')"
      ],
      "metadata": {
        "colab": {
          "base_uri": "https://localhost:8080/"
        },
        "id": "XKjdzpsscQv3",
        "outputId": "b892c179-a223-4add-b1f5-7ee30ad3ffd7"
      },
      "execution_count": null,
      "outputs": [
        {
          "output_type": "stream",
          "name": "stdout",
          "text": [
            "a is even\n"
          ]
        }
      ]
    },
    {
      "cell_type": "code",
      "source": [
        "5 and 7"
      ],
      "metadata": {
        "colab": {
          "base_uri": "https://localhost:8080/"
        },
        "id": "wmEMRTdOcasw",
        "outputId": "f9705c55-0a5c-4716-b4ee-6641aeb2d88d"
      },
      "execution_count": null,
      "outputs": [
        {
          "output_type": "execute_result",
          "data": {
            "text/plain": [
              "7"
            ]
          },
          "metadata": {},
          "execution_count": 45
        }
      ]
    },
    {
      "cell_type": "code",
      "source": [
        "7 & 13 # 0111 & 1101"
      ],
      "metadata": {
        "colab": {
          "base_uri": "https://localhost:8080/"
        },
        "id": "fNSL6M-NcoO_",
        "outputId": "b85af26a-210b-467c-9ba4-1800c29e2bc1"
      },
      "execution_count": null,
      "outputs": [
        {
          "output_type": "execute_result",
          "data": {
            "text/plain": [
              "5"
            ]
          },
          "metadata": {},
          "execution_count": 48
        }
      ]
    },
    {
      "cell_type": "code",
      "source": [
        "7 and 13"
      ],
      "metadata": {
        "colab": {
          "base_uri": "https://localhost:8080/"
        },
        "id": "5N-0Q2kpcabB",
        "outputId": "ac363644-37af-4e48-d9da-e181ec606966"
      },
      "execution_count": null,
      "outputs": [
        {
          "output_type": "execute_result",
          "data": {
            "text/plain": [
              "13"
            ]
          },
          "metadata": {},
          "execution_count": 46
        }
      ]
    },
    {
      "cell_type": "code",
      "source": [
        "13 & 7 # 0111 & 1101"
      ],
      "metadata": {
        "colab": {
          "base_uri": "https://localhost:8080/"
        },
        "id": "gG4QGrzvcpaX",
        "outputId": "e09b3dea-b0a3-46d1-af77-df27b42951b6"
      },
      "execution_count": null,
      "outputs": [
        {
          "output_type": "execute_result",
          "data": {
            "text/plain": [
              "5"
            ]
          },
          "metadata": {},
          "execution_count": 50
        }
      ]
    },
    {
      "cell_type": "code",
      "source": [
        "a=100\n",
        "if a>0 or (a%2)!=0:\n",
        "  print('a is even')"
      ],
      "metadata": {
        "colab": {
          "base_uri": "https://localhost:8080/"
        },
        "id": "OIhamKQ0c6rS",
        "outputId": "36790dad-a0cb-4de6-eee2-07eec403a157"
      },
      "execution_count": null,
      "outputs": [
        {
          "output_type": "stream",
          "name": "stdout",
          "text": [
            "a is even\n"
          ]
        }
      ]
    },
    {
      "cell_type": "code",
      "source": [
        "5 or 7"
      ],
      "metadata": {
        "colab": {
          "base_uri": "https://localhost:8080/"
        },
        "id": "e129sMbldB9S",
        "outputId": "85a685e8-d656-41a8-dc1a-1f2c5e4383c3"
      },
      "execution_count": null,
      "outputs": [
        {
          "output_type": "execute_result",
          "data": {
            "text/plain": [
              "5"
            ]
          },
          "metadata": {},
          "execution_count": 53
        }
      ]
    },
    {
      "cell_type": "code",
      "source": [
        "7 or 13"
      ],
      "metadata": {
        "colab": {
          "base_uri": "https://localhost:8080/"
        },
        "id": "ouvXu31pdB2A",
        "outputId": "c528aaee-2d23-46dc-dd97-8d129b231423"
      },
      "execution_count": null,
      "outputs": [
        {
          "output_type": "execute_result",
          "data": {
            "text/plain": [
              "7"
            ]
          },
          "metadata": {},
          "execution_count": 54
        }
      ]
    },
    {
      "cell_type": "code",
      "source": [
        "7 | 13 # | : 비트연산자로 작동 됨. # 0111 | 1101"
      ],
      "metadata": {
        "colab": {
          "base_uri": "https://localhost:8080/"
        },
        "id": "qeLrFgVrdBqX",
        "outputId": "d31ba511-31be-4038-81ea-bfc917c391a8"
      },
      "execution_count": null,
      "outputs": [
        {
          "output_type": "execute_result",
          "data": {
            "text/plain": [
              "15"
            ]
          },
          "metadata": {},
          "execution_count": 51
        }
      ]
    },
    {
      "cell_type": "code",
      "source": [
        "13 | 7 # # 0111 | 1101"
      ],
      "metadata": {
        "colab": {
          "base_uri": "https://localhost:8080/"
        },
        "id": "qH1AU2mxdBVn",
        "outputId": "d4119e68-2a94-4bf2-cc55-243410ce3286"
      },
      "execution_count": null,
      "outputs": [
        {
          "output_type": "execute_result",
          "data": {
            "text/plain": [
              "15"
            ]
          },
          "metadata": {},
          "execution_count": 52
        }
      ]
    },
    {
      "cell_type": "markdown",
      "source": [
        "연습문제 5-1  \n",
        "b로 a를 나눈 나머지가 3초과면 실패 3이면 무승부, 3미만이면 성공이 출력되도록 만들어보자\n"
      ],
      "metadata": {
        "id": "S2RsL7XcdsFv"
      }
    },
    {
      "cell_type": "code",
      "source": [
        "a=34\n",
        "b=4\n",
        "if a%b>3:\n",
        "  print(\"실패\")\n",
        "elif a%b==3:\n",
        "  print(\"무승부\")\n",
        "else:\n",
        "  print(\"성공\")"
      ],
      "metadata": {
        "colab": {
          "base_uri": "https://localhost:8080/"
        },
        "id": "5jRpHHBcd0G-",
        "outputId": "394fb900-d630-431f-9473-49d10aee214f"
      },
      "execution_count": null,
      "outputs": [
        {
          "output_type": "stream",
          "name": "stdout",
          "text": [
            "성공\n"
          ]
        }
      ]
    },
    {
      "cell_type": "code",
      "source": [
        "a =34\n",
        "b =4 \n",
        "\n",
        "r = a%b\n",
        "\n",
        "if r>3:\n",
        "    print('실패')\n",
        "elif r==3:\n",
        "    print('무승부')\n",
        "else :\n",
        "    print('성공')"
      ],
      "metadata": {
        "id": "x_L-6SspgzpR"
      },
      "execution_count": null,
      "outputs": []
    },
    {
      "cell_type": "markdown",
      "source": [
        "연습문제 5-3  \n",
        "무슨 학교에 다니세요?\n",
        "태어난 연도를 계산하여 학교 종류를 맞추는 프로그램\n",
        "나이는 현재연도-태어난연도+1로 계산\n",
        "26세 이하 20세 이상이면 \"대학생\"\n",
        "20세 미만 17세 이상이면 \"고등학생\"\n",
        "17세 미만 14세 이상이면 \"중학생\"\n",
        "14세 미만 8세 이상이면 \"초등학생\"\n",
        "그외의 경우는 \"학생이 아닙니다\" 출력"
      ],
      "metadata": {
        "id": "fZVH6jX0fHyx"
      }
    },
    {
      "cell_type": "code",
      "source": [
        "year1=input(\"당신이 태어난 년도를 입력하세요\")\n",
        "age1=2023-int(year1)+1\n",
        "if 20<=age1<=26:\n",
        "  print(\"대학생\")\n",
        "elif 17<=age1<20:\n",
        "  print(\"고등학생\")\n",
        "elif 14<=age1<17:\n",
        "  print(\"중학생\")\n",
        "elif 8<=age1<14:\n",
        "  print(\"초등학생\")\n",
        "else:\n",
        "  print(\"학생이 아닙니다.\")"
      ],
      "metadata": {
        "colab": {
          "base_uri": "https://localhost:8080/"
        },
        "id": "0dVfGMiAfGzL",
        "outputId": "dfd06fa5-2a46-45ce-ab9d-7eb87afde791"
      },
      "execution_count": null,
      "outputs": [
        {
          "output_type": "stream",
          "name": "stdout",
          "text": [
            "당신이 태어난 년도를 입력하세요2015\n",
            "초등학생\n"
          ]
        }
      ]
    },
    {
      "cell_type": "code",
      "source": [
        "birth_year = int(input('당신의 태어난 년도를 입력해주세요.'))\n",
        "\n",
        "age = 2023 - birth_year+1\n",
        "\n",
        "message = \"\"\n",
        "\n",
        "if 20<=age and age<=26:\n",
        "    message=\"대학생\"\n",
        "elif 17<=age and age<20:\n",
        "    message=\"고등학생\"\n",
        "elif 14<=age and age<17:\n",
        "    message=\"중학생\"\n",
        "elif 8<=age and age<14:\n",
        "    message=\"초등학생\"\n",
        "else:\n",
        "    print('학생이 아닙니다.')\n",
        "\n",
        "print(message)  "
      ],
      "metadata": {
        "colab": {
          "base_uri": "https://localhost:8080/"
        },
        "id": "wokQ5aXChFGe",
        "outputId": "68a13a90-7818-4221-d645-a33fcf1e0826"
      },
      "execution_count": null,
      "outputs": [
        {
          "output_type": "stream",
          "name": "stdout",
          "text": [
            "당신의 태어난 년도를 입력해주세요.2000\n",
            "대학생\n"
          ]
        }
      ]
    },
    {
      "cell_type": "markdown",
      "source": [
        "연습문제 5-5  \n",
        "양의 정수 하나를 입력받아 이 정수가 2의 배수인지 3의 배수인지 작성하시오\n"
      ],
      "metadata": {
        "id": "nl2Tja-ShYwZ"
      }
    },
    {
      "cell_type": "code",
      "source": [
        "num1=int(input(\"양의정수\"))\n",
        "\n",
        "if num1%2==0 :\n",
        "  if num1%3==0 :\n",
        "    print(\"2와 3의 배수\")\n",
        "  else :\n",
        "    print(\"2의배수\")\n",
        "elif num1%3==0 :\n",
        "  print(\"3의배수\")\n",
        "else:\n",
        "  print(\"숫자\")"
      ],
      "metadata": {
        "id": "xRtoh7kThWZW",
        "colab": {
          "base_uri": "https://localhost:8080/"
        },
        "outputId": "bab8e150-5e05-4d4f-caa6-14e88dd88e16"
      },
      "execution_count": 66,
      "outputs": [
        {
          "output_type": "stream",
          "name": "stdout",
          "text": [
            "양의정수6\n",
            "2와 3의 배수\n"
          ]
        }
      ]
    },
    {
      "cell_type": "code",
      "source": [
        "num = int(input('정수를 하나 입력하세요.'))\n",
        "\n",
        "if num %2==0:\n",
        "    if num%3==0:\n",
        "        print('2와 3으로 나누어 집니다.')\n",
        "    else : \n",
        "        print('2로 나누어집니다.')\n",
        "elif num %3==0:\n",
        "    print('3으로 나누어 집니다.')\n",
        "else:\n",
        "    print('어느 것으로도 나누어지지 않습니다.')"
      ],
      "metadata": {
        "id": "rRnI_UCfiy_W"
      },
      "execution_count": null,
      "outputs": []
    },
    {
      "cell_type": "code",
      "source": [
        "for i in range(5,-1,-1):\n",
        "  print(i)"
      ],
      "metadata": {
        "colab": {
          "base_uri": "https://localhost:8080/"
        },
        "id": "8X3-mCBu3Bs7",
        "outputId": "9eec9308-7a4b-492e-c521-81ffed2f6e51"
      },
      "execution_count": 80,
      "outputs": [
        {
          "output_type": "stream",
          "name": "stdout",
          "text": [
            "5\n",
            "4\n",
            "3\n",
            "2\n",
            "1\n",
            "0\n"
          ]
        }
      ]
    },
    {
      "cell_type": "markdown",
      "source": [
        "변수의 범위 지정하기  \n",
        "2) 자료형으로 범위"
      ],
      "metadata": {
        "id": "ZEsXK-bu6T9R"
      }
    },
    {
      "cell_type": "code",
      "source": [
        "word='hello'\n",
        "for i in word:\n",
        "  print(i)"
      ],
      "metadata": {
        "colab": {
          "base_uri": "https://localhost:8080/"
        },
        "id": "dTMUNw_D6XXB",
        "outputId": "87f85a7f-67fd-4563-998b-db53f57c559d"
      },
      "execution_count": 82,
      "outputs": [
        {
          "output_type": "stream",
          "name": "stdout",
          "text": [
            "h\n",
            "e\n",
            "l\n",
            "l\n",
            "o\n"
          ]
        }
      ]
    },
    {
      "cell_type": "code",
      "source": [
        "i=0\n",
        "for j in range(0,11):\n",
        "  i=j+1\n",
        "  print(i)"
      ],
      "metadata": {
        "colab": {
          "base_uri": "https://localhost:8080/"
        },
        "id": "6lep5Bp46hCZ",
        "outputId": "bbaed643-2a4c-4cee-aac7-bebee4e21088"
      },
      "execution_count": 87,
      "outputs": [
        {
          "output_type": "stream",
          "name": "stdout",
          "text": [
            "1\n",
            "2\n",
            "3\n",
            "4\n",
            "5\n",
            "6\n",
            "7\n",
            "8\n",
            "9\n",
            "10\n",
            "11\n"
          ]
        }
      ]
    },
    {
      "cell_type": "markdown",
      "source": [
        "(1) 계단형"
      ],
      "metadata": {
        "id": "hUlBR2AyA_zY"
      }
    },
    {
      "cell_type": "code",
      "source": [
        "n=int(input(\"n:\"))\n",
        "for i in range(n):\n",
        "  print(\" \"*i, end=\"\") # end의 역할 sep와 비슷한 기능(구분자로 사용)\n",
        "  print(\"*\"*n)"
      ],
      "metadata": {
        "colab": {
          "base_uri": "https://localhost:8080/"
        },
        "id": "8uhZ5rxNAsew",
        "outputId": "783dc62d-c567-48cc-d727-a6e9ca13c51a"
      },
      "execution_count": 142,
      "outputs": [
        {
          "output_type": "stream",
          "name": "stdout",
          "text": [
            "n:5\n",
            "*****\n",
            " *****\n",
            "  *****\n",
            "   *****\n",
            "    *****\n"
          ]
        }
      ]
    },
    {
      "cell_type": "markdown",
      "source": [
        "(2) 삼각형"
      ],
      "metadata": {
        "id": "ihfJVG2zBDPY"
      }
    },
    {
      "cell_type": "code",
      "source": [
        "n=int(input(\"n:\"))\n",
        "for i in range(1, n+1):\n",
        "  print(\"*\"*i)  "
      ],
      "metadata": {
        "colab": {
          "base_uri": "https://localhost:8080/"
        },
        "id": "OhHmDugABFix",
        "outputId": "1c527f35-c21e-49a3-d1a5-b2875a8a234f"
      },
      "execution_count": 143,
      "outputs": [
        {
          "output_type": "stream",
          "name": "stdout",
          "text": [
            "n:5\n",
            "*\n",
            "**\n",
            "***\n",
            "****\n",
            "*****\n"
          ]
        }
      ]
    },
    {
      "cell_type": "markdown",
      "source": [
        "(2)-1"
      ],
      "metadata": {
        "id": "3qjE8QTlBbzo"
      }
    },
    {
      "cell_type": "code",
      "source": [
        "n=int(input(\"n:\"))\n",
        "for i in range(1, n+1):\n",
        "  print(\" \"*(n-i), end=\"\")\n",
        "  print(\"*\"*i)"
      ],
      "metadata": {
        "colab": {
          "base_uri": "https://localhost:8080/"
        },
        "id": "lGWdYaNhBg1Q",
        "outputId": "5e2c07bd-7273-497e-a211-a4ff33c4f18b"
      },
      "execution_count": 145,
      "outputs": [
        {
          "output_type": "stream",
          "name": "stdout",
          "text": [
            "n:5\n",
            "    *\n",
            "   **\n",
            "  ***\n",
            " ****\n",
            "*****\n"
          ]
        }
      ]
    },
    {
      "cell_type": "markdown",
      "source": [
        "(3) 역삼각형"
      ],
      "metadata": {
        "id": "nTh6VQrZC9kR"
      }
    },
    {
      "cell_type": "code",
      "source": [
        "n=int(input(\"n:\"))\n",
        "for i in range(n):\n",
        "  print(\"*\"*(n-i))"
      ],
      "metadata": {
        "colab": {
          "base_uri": "https://localhost:8080/"
        },
        "id": "Q6G2_RsMBuM_",
        "outputId": "4e03743d-709a-42c4-b3a4-c9d65413e524"
      },
      "execution_count": 146,
      "outputs": [
        {
          "output_type": "stream",
          "name": "stdout",
          "text": [
            "n:5\n",
            "*****\n",
            "****\n",
            "***\n",
            "**\n",
            "*\n"
          ]
        }
      ]
    },
    {
      "cell_type": "markdown",
      "source": [
        "(3)-1"
      ],
      "metadata": {
        "id": "f3kP7SnmDAIs"
      }
    },
    {
      "cell_type": "code",
      "source": [
        "n=int(input(\"n:\"))\n",
        "for i in range(n):\n",
        "  print(\" \"*i, end=\"\")\n",
        "  print(\"*\"*(n-i))"
      ],
      "metadata": {
        "colab": {
          "base_uri": "https://localhost:8080/"
        },
        "id": "4RiLJYUfCTaI",
        "outputId": "a4536be3-a4f9-447e-d8c0-08e2c1a07ba8"
      },
      "execution_count": 148,
      "outputs": [
        {
          "output_type": "stream",
          "name": "stdout",
          "text": [
            "n:5\n",
            "*****\n",
            " ****\n",
            "  ***\n",
            "   **\n",
            "    *\n"
          ]
        }
      ]
    },
    {
      "cell_type": "markdown",
      "source": [
        "(4) 피라미드"
      ],
      "metadata": {
        "id": "N_MeE8QDDBtA"
      }
    },
    {
      "cell_type": "code",
      "source": [
        "n=int(input(\"n:\"))\n",
        "for i in range(1, n+1):\n",
        "  print(\" \"*(n-i), end=\"\")\n",
        "  print(\"*\"*(2*i-1))"
      ],
      "metadata": {
        "colab": {
          "base_uri": "https://localhost:8080/"
        },
        "id": "Phz8DZrfCWRI",
        "outputId": "9ee4627e-b670-47c9-c6ae-66cc83b02c99"
      },
      "execution_count": 151,
      "outputs": [
        {
          "output_type": "stream",
          "name": "stdout",
          "text": [
            "n:5\n",
            "    *\n",
            "   ***\n",
            "  *****\n",
            " *******\n",
            "*********\n"
          ]
        }
      ]
    },
    {
      "cell_type": "markdown",
      "source": [
        "참고 : https://songsw.tistory.com/30"
      ],
      "metadata": {
        "id": "OwNC8CiEEz3H"
      }
    },
    {
      "cell_type": "markdown",
      "source": [
        "연습문제 3"
      ],
      "metadata": {
        "id": "TeLnQl4NGho_"
      }
    },
    {
      "cell_type": "code",
      "source": [
        "x=[3,6,9,20,-7,5]"
      ],
      "metadata": {
        "id": "1d6nXZOpG06v"
      },
      "execution_count": null,
      "outputs": []
    },
    {
      "cell_type": "code",
      "source": [
        "for i in x:\n",
        "  print(i*10)"
      ],
      "metadata": {
        "colab": {
          "base_uri": "https://localhost:8080/"
        },
        "id": "twgvYSg6E1_x",
        "outputId": "ba314c72-74c3-4d24-fed1-bbbf34c3596c"
      },
      "execution_count": 170,
      "outputs": [
        {
          "output_type": "stream",
          "name": "stdout",
          "text": [
            "30\n",
            "60\n",
            "90\n",
            "200\n",
            "-70\n",
            "50\n"
          ]
        }
      ]
    },
    {
      "cell_type": "code",
      "source": [
        "# 심화\n",
        "for i in range(0,len(x)):\n",
        "  x[i]=x[i]*10\n",
        "print(x)"
      ],
      "metadata": {
        "colab": {
          "base_uri": "https://localhost:8080/"
        },
        "id": "DntvFisAGoQ2",
        "outputId": "0257bb6a-e027-43df-eaec-51c30f5bf0ad"
      },
      "execution_count": 171,
      "outputs": [
        {
          "output_type": "stream",
          "name": "stdout",
          "text": [
            "[30, 60, 90, 200, -70, 50]\n"
          ]
        }
      ]
    },
    {
      "cell_type": "markdown",
      "source": [
        "2번 문제"
      ],
      "metadata": {
        "id": "-UNxEzKTHvF3"
      }
    },
    {
      "cell_type": "code",
      "source": [
        "y={\"math\":70, \"science\":80, \"english\":20}\n",
        "for key in y:\n",
        "  val=y[key]\n",
        "  y[key]=y[key]+10\n",
        "  print(\"%s:%d\"%(key,val+10))"
      ],
      "metadata": {
        "colab": {
          "base_uri": "https://localhost:8080/"
        },
        "id": "EJsEnPEUHb1i",
        "outputId": "c624c22d-2667-4d1c-b967-940cd53a0969"
      },
      "execution_count": 178,
      "outputs": [
        {
          "output_type": "stream",
          "name": "stdout",
          "text": [
            "math:80\n",
            "science:90\n",
            "english:30\n"
          ]
        }
      ]
    },
    {
      "cell_type": "markdown",
      "source": [
        "p.191 임의의 값 할당"
      ],
      "metadata": {
        "id": "TNT9nhVSM-P5"
      }
    },
    {
      "cell_type": "code",
      "source": [
        "import random\n",
        "true_value=random.randint(1,100) \n",
        "input_value=99999 # 임의의 값 할당\n",
        "print(\"숫자를 맞춰보세요(1~100):\")\n",
        "num1=int(input(\"숫자 입력:\"))\n",
        "while True:\n",
        "  if input_value>num1:\n",
        "    print(\"숫자가 너무 작습니다.\")\n",
        "    num1=int(input(\"숫자 입력:\"))\n",
        "    continue\n",
        "  elif input_value<num1:\n",
        "    print(\"숫자가 너무 큽니다.\")\n",
        "    num1=int(input(\"숫자 입력:\"))\n",
        "    continue\n",
        "  else:\n",
        "    break\n",
        "print(\"정답입니다. 입력한 숫자는\",input_value,\"입니다.\")\n"
      ],
      "metadata": {
        "colab": {
          "base_uri": "https://localhost:8080/"
        },
        "id": "Kpz3Dlh4IV5o",
        "outputId": "3134c332-cdfb-4fdc-a35f-ae38eb6c617d"
      },
      "execution_count": 184,
      "outputs": [
        {
          "output_type": "stream",
          "name": "stdout",
          "text": [
            "숫자를 맞춰보세요(1~100):\n",
            "숫자 입력:5\n",
            "숫자가 너무 작습니다.\n",
            "숫자 입력:30\n",
            "정답입니다. 입력한 숫자는 30 입니다.\n"
          ]
        }
      ]
    },
    {
      "cell_type": "code",
      "source": [
        "import random\n",
        "true_value=random.randint(1,100) \n",
        "input_value=99999 # 임의의 값 할당\n",
        "print(\"숫자를 맞춰보세요.\")\n",
        "\n",
        "while true_value !=input_value:\n",
        "  input_value=int(input())\n",
        "\n",
        "  if input_value>true_value:\n",
        "    print(\"숫자가 너무 큽니다.\") # 사용자의 입력값이 true_value보다 클때\n",
        "  else:\n",
        "    print(\"숫자가 너무 작습니다.\") # 사용자의 입력값이 true_value보다 작을때\n",
        "print(f\"정답입니다. 입력한숫자는 {true_value}입니다.\")"
      ],
      "metadata": {
        "colab": {
          "base_uri": "https://localhost:8080/"
        },
        "id": "tk3bO3LrM3_m",
        "outputId": "a6137b0c-1fc1-48c1-c5eb-dd3ce68ae285"
      },
      "execution_count": 185,
      "outputs": [
        {
          "output_type": "stream",
          "name": "stdout",
          "text": [
            "숫자를 맞춰보세요.\n",
            "50\n",
            "숫자가 너무 큽니다.\n",
            "40\n",
            "숫자가 너무 작습니다.\n",
            "30\n",
            "숫자가 너무 작습니다.\n",
            "45\n",
            "숫자가 너무 작습니다.\n",
            "46\n",
            "숫자가 너무 작습니다.\n",
            "47\n",
            "숫자가 너무 작습니다.\n",
            "48\n",
            "숫자가 너무 작습니다.\n",
            "49\n",
            "숫자가 너무 작습니다.\n",
            "정답입니다. 입력한숫자는 49입니다.\n"
          ]
        }
      ]
    },
    {
      "cell_type": "markdown",
      "source": [
        "연습문제5\n",
        "word=[\"shool\", \"game\", \"piano\",\"science\", \"hotel\",\"mountain\"] 중 글자수가 6글자 이상인 문자를 모아 새로운 리스트를 생성하세요"
      ],
      "metadata": {
        "id": "2ptkuRuYOPC-"
      }
    },
    {
      "cell_type": "code",
      "source": [
        "word=[\"school\", \"game\", \"piano\",\"science\", \"hotel\",\"mountain\"]\n",
        "a=list()\n",
        "for i in range(len(word)):\n",
        "  if len(word[i])>=6:\n",
        "    a.append(word[i])\n",
        "print(a)"
      ],
      "metadata": {
        "colab": {
          "base_uri": "https://localhost:8080/"
        },
        "id": "YMdmzoFFOQd-",
        "outputId": "56111f8a-93be-46e3-b6aa-07adb854f9ce"
      },
      "execution_count": 193,
      "outputs": [
        {
          "output_type": "stream",
          "name": "stdout",
          "text": [
            "['school', 'science', 'mountain']\n"
          ]
        }
      ]
    },
    {
      "cell_type": "markdown",
      "source": [
        "P.193 연습문제6"
      ],
      "metadata": {
        "id": "IP3ckb1aTJQ9"
      }
    },
    {
      "cell_type": "code",
      "source": [
        "for i in range(1,101):\n",
        "  if i%3==0 and i%5==0:\n",
        "    print(\"3과5의공배수\")\n",
        "  elif i%3==0:\n",
        "    print(\"3의 배수\")\n",
        "  elif i%5==0:\n",
        "    print(\"5의 배수\")\n",
        "  else:\n",
        "    print(i)"
      ],
      "metadata": {
        "colab": {
          "base_uri": "https://localhost:8080/"
        },
        "id": "pb01gaZTRUrV",
        "outputId": "d1648335-9f5c-46f8-d034-308c05b3240e"
      },
      "execution_count": 211,
      "outputs": [
        {
          "output_type": "stream",
          "name": "stdout",
          "text": [
            "1\n",
            "2\n",
            "3의 배수\n",
            "4\n",
            "5의 배수\n",
            "3의 배수\n",
            "7\n",
            "8\n",
            "3의 배수\n",
            "5의 배수\n",
            "11\n",
            "3의 배수\n",
            "13\n",
            "14\n",
            "3과5의공배수\n",
            "16\n",
            "17\n",
            "3의 배수\n",
            "19\n",
            "5의 배수\n",
            "3의 배수\n",
            "22\n",
            "23\n",
            "3의 배수\n",
            "5의 배수\n",
            "26\n",
            "3의 배수\n",
            "28\n",
            "29\n",
            "3과5의공배수\n",
            "31\n",
            "32\n",
            "3의 배수\n",
            "34\n",
            "5의 배수\n",
            "3의 배수\n",
            "37\n",
            "38\n",
            "3의 배수\n",
            "5의 배수\n",
            "41\n",
            "3의 배수\n",
            "43\n",
            "44\n",
            "3과5의공배수\n",
            "46\n",
            "47\n",
            "3의 배수\n",
            "49\n",
            "5의 배수\n",
            "3의 배수\n",
            "52\n",
            "53\n",
            "3의 배수\n",
            "5의 배수\n",
            "56\n",
            "3의 배수\n",
            "58\n",
            "59\n",
            "3과5의공배수\n",
            "61\n",
            "62\n",
            "3의 배수\n",
            "64\n",
            "5의 배수\n",
            "3의 배수\n",
            "67\n",
            "68\n",
            "3의 배수\n",
            "5의 배수\n",
            "71\n",
            "3의 배수\n",
            "73\n",
            "74\n",
            "3과5의공배수\n",
            "76\n",
            "77\n",
            "3의 배수\n",
            "79\n",
            "5의 배수\n",
            "3의 배수\n",
            "82\n",
            "83\n",
            "3의 배수\n",
            "5의 배수\n",
            "86\n",
            "3의 배수\n",
            "88\n",
            "89\n",
            "3과5의공배수\n",
            "91\n",
            "92\n",
            "3의 배수\n",
            "94\n",
            "5의 배수\n",
            "3의 배수\n",
            "97\n",
            "98\n",
            "3의 배수\n",
            "5의 배수\n"
          ]
        }
      ]
    },
    {
      "cell_type": "code",
      "source": [
        "# 심화문제\n",
        "\n",
        "b=int(input(\"정수를 입력하세요.\"))\n",
        "if b<=0:\n",
        "  print(\"음수는 정의하지않음\")\n",
        "else:\n",
        "  for i in range(1,b+1):\n",
        "    if i%3==0 and i%5==0:\n",
        "      print(\"3과 5의 공배수\")\n",
        "    elif i%3==0:\n",
        "      print(\"3의 배수\")\n",
        "    elif i%5==0:\n",
        "      print(\"5의 배수\")\n",
        "    elif 1<=i<=100:\n",
        "      print(i)\n",
        "    else:\n",
        "      print('1과 100사이 숫자가 아닙니다.')"
      ],
      "metadata": {
        "id": "sl1qJpSqTs_s"
      },
      "execution_count": null,
      "outputs": []
    },
    {
      "cell_type": "markdown",
      "source": [
        "연습문제7  \n",
        "사용자로부터 숫자를 계속 입력받다가 s or S를 입력하면 합계출력"
      ],
      "metadata": {
        "id": "PIfXNRYEU2Rl"
      }
    },
    {
      "cell_type": "code",
      "source": [
        "c=0\n",
        "d=1\n",
        "while (d==1):\n",
        "  a=input()\n",
        "  if a==\"s\" or a==\"S\":\n",
        "    d=0\n",
        "  else:\n",
        "    a=int(a)\n",
        "    c+=a\n",
        "print(c)"
      ],
      "metadata": {
        "colab": {
          "base_uri": "https://localhost:8080/"
        },
        "id": "JByg8o-eU3Kj",
        "outputId": "1c677e48-417d-4a85-d6cd-4e89807fd25e"
      },
      "execution_count": 210,
      "outputs": [
        {
          "output_type": "stream",
          "name": "stdout",
          "text": [
            "50\n",
            "40\n",
            "30\n",
            "s\n",
            "120\n"
          ]
        }
      ]
    },
    {
      "cell_type": "markdown",
      "source": [
        "얀습문제8  \n",
        "사람별 평균을 구하라."
      ],
      "metadata": {
        "id": "JO2CCXs0WlmL"
      }
    },
    {
      "cell_type": "code",
      "source": [
        "kor_score=[39,69,20,100,80]\n",
        "math_score=[32,59,85,30,90]\n",
        "eng_score=[49,70,48,60,100]\n",
        "midterm_score=[kor_score, math_score, eng_score]\n"
      ],
      "metadata": {
        "id": "WqwvJ8lDWqzj"
      },
      "execution_count": null,
      "outputs": []
    }
  ]
}
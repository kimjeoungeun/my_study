{
 "cells": [
  {
   "attachments": {},
   "cell_type": "markdown",
   "metadata": {},
   "source": [
    "- 얕은 복사(shallow copy)\n",
    "  - 변수를 복사했다고 생각하지만 실제로는 연결\n",
    "  - 참조(메모리주소)만 복사\n",
    "  - list, set, dictionary 등 mutable한 객체에서 확인"
   ]
  },
  {
   "cell_type": "code",
   "execution_count": 26,
   "metadata": {},
   "outputs": [],
   "source": [
    "a=[5,4,3,2,1]\n",
    "b=a[:] # 슬라이싱(전체)"
   ]
  },
  {
   "cell_type": "code",
   "execution_count": 27,
   "metadata": {},
   "outputs": [
    {
     "name": "stdout",
     "output_type": "stream",
     "text": [
      "1537939377920 1537939419712\n",
      "1537833920944 1537833920944\n"
     ]
    }
   ],
   "source": [
    "print(id(a), id(b)) # 슬라이싱을 통해 b는 새로운 값을 할당받음\n",
    "print(id(a[0]), id(b[0])) # 내부 객체는 같은 주소를 바라봄"
   ]
  },
  {
   "cell_type": "code",
   "execution_count": 32,
   "metadata": {},
   "outputs": [
    {
     "name": "stdout",
     "output_type": "stream",
     "text": [
      "1537833920944\n"
     ]
    }
   ],
   "source": [
    "a=[5,4,3,2,1]\n",
    "b=a[:]\n",
    "b.append(1) # 새로운 값을 추가해도 0의 인덱스 그대로\n",
    "print(id(b[0]))"
   ]
  },
  {
   "attachments": {},
   "cell_type": "markdown",
   "metadata": {},
   "source": [
    "- 깊은 복사(deep copy)\n",
    "  - 내부의 객체들까지 모두 새롭게 copy"
   ]
  },
  {
   "attachments": {},
   "cell_type": "markdown",
   "metadata": {},
   "source": [
    "- https://blockdmask.tistory.com/576"
   ]
  },
  {
   "cell_type": "code",
   "execution_count": 11,
   "metadata": {},
   "outputs": [
    {
     "name": "stdout",
     "output_type": "stream",
     "text": [
      "1537833920816 1537833920816\n"
     ]
    }
   ],
   "source": [
    "a=1\n",
    "b=a\n",
    "print(id(a), id(b)) # 같은 참조이나 값을 변경하면 다른 주소할당"
   ]
  },
  {
   "cell_type": "code",
   "execution_count": 16,
   "metadata": {},
   "outputs": [
    {
     "name": "stdout",
     "output_type": "stream",
     "text": [
      "1537833920816 1537833920848\n"
     ]
    }
   ],
   "source": [
    "a=1\n",
    "b=a+1\n",
    "print(id(a), id(b))"
   ]
  },
  {
   "cell_type": "code",
   "execution_count": null,
   "metadata": {},
   "outputs": [],
   "source": []
  },
  {
   "cell_type": "code",
   "execution_count": null,
   "metadata": {},
   "outputs": [],
   "source": []
  },
  {
   "cell_type": "code",
   "execution_count": null,
   "metadata": {},
   "outputs": [],
   "source": []
  },
  {
   "cell_type": "code",
   "execution_count": null,
   "metadata": {},
   "outputs": [],
   "source": []
  },
  {
   "cell_type": "code",
   "execution_count": null,
   "metadata": {},
   "outputs": [],
   "source": []
  },
  {
   "cell_type": "code",
   "execution_count": null,
   "metadata": {},
   "outputs": [],
   "source": []
  }
 ],
 "metadata": {
  "kernelspec": {
   "display_name": "Python 3",
   "language": "python",
   "name": "python3"
  },
  "language_info": {
   "codemirror_mode": {
    "name": "ipython",
    "version": 3
   },
   "file_extension": ".py",
   "mimetype": "text/x-python",
   "name": "python",
   "nbconvert_exporter": "python",
   "pygments_lexer": "ipython3",
   "version": "3.9.13"
  },
  "orig_nbformat": 4
 },
 "nbformat": 4,
 "nbformat_minor": 2
}

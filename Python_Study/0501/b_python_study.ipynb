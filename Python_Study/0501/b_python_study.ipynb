{
 "cells": [
  {
   "attachments": {},
   "cell_type": "markdown",
   "metadata": {},
   "source": [
    "- 얕은 복사(shallow copy)\n",
    "  - 변수를 복사했다고 생각하지만 실제로는 연결\n",
    "  - 참조(메모리주소)만 복사\n",
    "  - list, set, dictionary 등 mutable한 객체에서 확인"
   ]
  },
  {
   "cell_type": "code",
   "execution_count": 26,
   "metadata": {},
   "outputs": [],
   "source": [
    "a=[5,4,3,2,1]\n",
    "b=a[:] # 슬라이싱(전체)"
   ]
  },
  {
   "cell_type": "code",
   "execution_count": 27,
   "metadata": {},
   "outputs": [
    {
     "name": "stdout",
     "output_type": "stream",
     "text": [
      "1537939377920 1537939419712\n",
      "1537833920944 1537833920944\n"
     ]
    }
   ],
   "source": [
    "print(id(a), id(b)) # 슬라이싱을 통해 b는 새로운 값을 할당받음\n",
    "print(id(a[0]), id(b[0])) # 내부 객체는 같은 주소를 바라봄"
   ]
  },
  {
   "cell_type": "code",
   "execution_count": 32,
   "metadata": {},
   "outputs": [
    {
     "name": "stdout",
     "output_type": "stream",
     "text": [
      "1537833920944\n"
     ]
    }
   ],
   "source": [
    "a=[5,4,3,2,1]\n",
    "b=a[:]\n",
    "b.append(1) # 새로운 값을 추가해도 0의 인덱스 그대로\n",
    "print(id(b[0]))"
   ]
  },
  {
   "attachments": {},
   "cell_type": "markdown",
   "metadata": {},
   "source": [
    "- 깊은 복사(deep copy)\n",
    "  - 내부의 객체들까지 모두 새롭게 copy"
   ]
  },
  {
   "attachments": {},
   "cell_type": "markdown",
   "metadata": {},
   "source": [
    "- https://blockdmask.tistory.com/576"
   ]
  },
  {
   "cell_type": "code",
   "execution_count": 11,
   "metadata": {},
   "outputs": [
    {
     "name": "stdout",
     "output_type": "stream",
     "text": [
      "1537833920816 1537833920816\n"
     ]
    }
   ],
   "source": [
    "a=1\n",
    "b=a\n",
    "print(id(a), id(b)) # 같은 참조이나 값을 변경하면 다른 주소할당"
   ]
  },
  {
   "cell_type": "code",
   "execution_count": 16,
   "metadata": {},
   "outputs": [
    {
     "name": "stdout",
     "output_type": "stream",
     "text": [
      "1537833920816 1537833920848\n"
     ]
    }
   ],
   "source": [
    "a=1\n",
    "b=a+1\n",
    "print(id(a), id(b))"
   ]
  },
  {
   "cell_type": "code",
   "execution_count": 14,
   "metadata": {},
   "outputs": [],
   "source": [
    "import copy\n",
    "a=[1,2,3,4,5]\n",
    "b=copy.deepcopy(a)"
   ]
  },
  {
   "cell_type": "code",
   "execution_count": 15,
   "metadata": {},
   "outputs": [
    {
     "name": "stdout",
     "output_type": "stream",
     "text": [
      "[1, 2, 3, 4, 5]\n",
      "2221870030528\n"
     ]
    }
   ],
   "source": [
    "print(a)\n",
    "print(id(a))"
   ]
  },
  {
   "cell_type": "code",
   "execution_count": 16,
   "metadata": {},
   "outputs": [
    {
     "name": "stdout",
     "output_type": "stream",
     "text": [
      "[1, 2, 3, 4, 5]\n",
      "2221870043776\n"
     ]
    }
   ],
   "source": [
    "# 얕은 복사 a와 b 리스트의 값이 같으나 메모리주소는 다름\n",
    "print(b) \n",
    "print(id(b))"
   ]
  },
  {
   "cell_type": "code",
   "execution_count": 18,
   "metadata": {},
   "outputs": [
    {
     "data": {
      "text/plain": [
       "False"
      ]
     },
     "execution_count": 18,
     "metadata": {},
     "output_type": "execute_result"
    }
   ],
   "source": [
    "a is b # 메모리주소가 다름(id값)"
   ]
  },
  {
   "attachments": {},
   "cell_type": "markdown",
   "metadata": {},
   "source": [
    "- is와 ==의 차이\n",
    "  - 변수의 동등 비교\n",
    "  - is : 변수의 Object(객체)가 같을 때 True를 리턴\n",
    "  - == : 변수의 Value(값)이 같을 때 True를 리턴"
   ]
  },
  {
   "attachments": {},
   "cell_type": "markdown",
   "metadata": {},
   "source": [
    "- and와 &의 차이\n",
    "  - and : 논리 AND 연산자(boolean)  \n",
    "        : 두개의 조건식이 모두 True일 때, True를 리턴\n",
    "  - & : 비트연산자(bitwise)  \n",
    "      : 두개의 이진수에서 동일한 위치의 bit가 1인 것들만 1로 계산"
   ]
  },
  {
   "cell_type": "code",
   "execution_count": 5,
   "metadata": {},
   "outputs": [
    {
     "name": "stdout",
     "output_type": "stream",
     "text": [
      "a is even\n"
     ]
    }
   ],
   "source": [
    "a=100\n",
    "if a>0 and (a%2)==0: # 조건 2개 모두 만족 True\n",
    "  print('a is even')"
   ]
  },
  {
   "cell_type": "code",
   "execution_count": 9,
   "metadata": {},
   "outputs": [
    {
     "data": {
      "text/plain": [
       "13"
      ]
     },
     "execution_count": 9,
     "metadata": {},
     "output_type": "execute_result"
    }
   ],
   "source": [
    "7 and 13 # 수 비교시 7이면서 13일 수 없어서 비트 연산자를 사용"
   ]
  },
  {
   "cell_type": "code",
   "execution_count": 8,
   "metadata": {},
   "outputs": [
    {
     "data": {
      "text/plain": [
       "5"
      ]
     },
     "execution_count": 8,
     "metadata": {},
     "output_type": "execute_result"
    }
   ],
   "source": [
    "7 & 13 # 0111 & 1101"
   ]
  },
  {
   "attachments": {},
   "cell_type": "markdown",
   "metadata": {},
   "source": [
    "- or와 |의 차이\n",
    "  - or : 논리 or 연산자(boolean)  \n",
    "        : 두개의 조건식이 모두 True일 때, True를 리턴\n",
    "  - | : 비트연산자(bitwise)  \n",
    "      : 두개의 이진수에서 두 수 중 하나라도 bit가 1인 것들을 1로 계산"
   ]
  },
  {
   "cell_type": "code",
   "execution_count": 19,
   "metadata": {},
   "outputs": [
    {
     "data": {
      "text/plain": [
       "7"
      ]
     },
     "execution_count": 19,
     "metadata": {},
     "output_type": "execute_result"
    }
   ],
   "source": [
    "7 or 13 # 작은 수 출력 7이거나 13일수없음"
   ]
  },
  {
   "cell_type": "code",
   "execution_count": 21,
   "metadata": {},
   "outputs": [
    {
     "data": {
      "text/plain": [
       "15"
      ]
     },
     "execution_count": 21,
     "metadata": {},
     "output_type": "execute_result"
    }
   ],
   "source": [
    "7 | 13 # 0111 | 1101"
   ]
  },
  {
   "cell_type": "code",
   "execution_count": 25,
   "metadata": {},
   "outputs": [
    {
     "name": "stdout",
     "output_type": "stream",
     "text": [
      "성공\n"
     ]
    }
   ],
   "source": [
    "a=34\n",
    "b=4\n",
    "\n",
    "r=a%b\n",
    "\n",
    "if r>3:\n",
    "    print(\"실패\")\n",
    "elif r==3:\n",
    "    print(\"무승부\")\n",
    "else:\n",
    "    print(\"성공\")"
   ]
  },
  {
   "cell_type": "code",
   "execution_count": null,
   "metadata": {},
   "outputs": [],
   "source": []
  }
 ],
 "metadata": {
  "kernelspec": {
   "display_name": "Python 3",
   "language": "python",
   "name": "python3"
  },
  "language_info": {
   "codemirror_mode": {
    "name": "ipython",
    "version": 3
   },
   "file_extension": ".py",
   "mimetype": "text/x-python",
   "name": "python",
   "nbconvert_exporter": "python",
   "pygments_lexer": "ipython3",
   "version": "3.9.13"
  },
  "orig_nbformat": 4
 },
 "nbformat": 4,
 "nbformat_minor": 2
}

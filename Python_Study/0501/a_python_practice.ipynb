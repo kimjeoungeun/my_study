{
  "cells": [
    {
      "attachments": {},
      "cell_type": "markdown",
      "metadata": {
        "colab_type": "text",
        "id": "view-in-github"
      },
      "source": [
        "<a href=\"https://colab.research.google.com/github/kje0058/my_study/blob/main/a_0501.ipynb\" target=\"_parent\"><img src=\"https://colab.research.google.com/assets/colab-badge.svg\" alt=\"Open In Colab\"/></a>"
      ]
    },
    {
      "cell_type": "code",
      "execution_count": 2,
      "metadata": {
        "id": "0Fe2RJTMUbPa"
      },
      "outputs": [],
      "source": [
        "a=[5,4,3,2,1]\n",
        "b=a[:]"
      ]
    },
    {
      "cell_type": "code",
      "execution_count": 3,
      "metadata": {
        "id": "0xZnCl9DaQoE"
      },
      "outputs": [
        {
          "name": "stdout",
          "output_type": "stream",
          "text": [
            "1436072464256 1436072265984\n"
          ]
        }
      ],
      "source": [
        "print(id(a),id(b))"
      ]
    },
    {
      "cell_type": "code",
      "execution_count": 4,
      "metadata": {
        "id": "YLGrZeMcaR9x"
      },
      "outputs": [
        {
          "data": {
            "text/plain": [
              "[5, 4, 3, 2, 1]"
            ]
          },
          "execution_count": 4,
          "metadata": {},
          "output_type": "execute_result"
        }
      ],
      "source": [
        "b"
      ]
    },
    {
      "cell_type": "code",
      "execution_count": null,
      "metadata": {
        "id": "uqAhZVj8aT_Z"
      },
      "outputs": [],
      "source": [
        "a.sort()"
      ]
    },
    {
      "cell_type": "code",
      "execution_count": null,
      "metadata": {
        "id": "wNp2f_EtaV2p"
      },
      "outputs": [],
      "source": [
        "a"
      ]
    },
    {
      "cell_type": "code",
      "execution_count": null,
      "metadata": {
        "id": "YWZgIYNxaWtB"
      },
      "outputs": [],
      "source": [
        "b"
      ]
    },
    {
      "cell_type": "code",
      "execution_count": null,
      "metadata": {
        "id": "gWESzgAQTPIU"
      },
      "outputs": [],
      "source": [
        "a=[5,4,3,2,1]\n",
        "b=a.copy()\n",
        "print(id(a),id(b))"
      ]
    },
    {
      "cell_type": "code",
      "execution_count": null,
      "metadata": {
        "id": "zi-gccGOwbdb"
      },
      "outputs": [],
      "source": [
        "a.sort()\n",
        "a"
      ]
    },
    {
      "cell_type": "code",
      "execution_count": null,
      "metadata": {
        "id": "9_LBHgh8wY_D"
      },
      "outputs": [],
      "source": [
        "b"
      ]
    },
    {
      "cell_type": "code",
      "execution_count": null,
      "metadata": {
        "id": "TcZyvrt6wY08"
      },
      "outputs": [],
      "source": [
        "a"
      ]
    },
    {
      "cell_type": "code",
      "execution_count": null,
      "metadata": {
        "id": "lbQk48oYUHgr"
      },
      "outputs": [],
      "source": [
        "import copy\n",
        "a=[5,4,3,2,1]\n",
        "b=copy.deepcopy(a)\n",
        "print(id(a),id(b))"
      ]
    },
    {
      "cell_type": "code",
      "execution_count": null,
      "metadata": {
        "id": "MQXpW_1cwpa1"
      },
      "outputs": [],
      "source": [
        "a.sort()\n",
        "a"
      ]
    },
    {
      "cell_type": "code",
      "execution_count": null,
      "metadata": {
        "id": "FnBqldttwpIE"
      },
      "outputs": [],
      "source": [
        "b"
      ]
    },
    {
      "cell_type": "code",
      "execution_count": null,
      "metadata": {
        "id": "9c0VHlf6wrOT"
      },
      "outputs": [],
      "source": [
        "a"
      ]
    },
    {
      "cell_type": "code",
      "execution_count": null,
      "metadata": {
        "id": "aFI2aSwYU17C"
      },
      "outputs": [],
      "source": [
        "a=[5,4,3,2,1]\n",
        "b=a[:]\n",
        "print(id(a),id(b))"
      ]
    },
    {
      "cell_type": "code",
      "execution_count": null,
      "metadata": {
        "id": "X0MMO9ugwwWb"
      },
      "outputs": [],
      "source": [
        "b"
      ]
    },
    {
      "cell_type": "code",
      "execution_count": null,
      "metadata": {
        "id": "BW2KcBltwxKT"
      },
      "outputs": [],
      "source": [
        "a.sort()\n",
        "a"
      ]
    },
    {
      "cell_type": "code",
      "execution_count": null,
      "metadata": {
        "id": "iQ76PTbEwx1l"
      },
      "outputs": [],
      "source": [
        "b"
      ]
    },
    {
      "cell_type": "code",
      "execution_count": null,
      "metadata": {
        "id": "1ps5UaZjVAwy"
      },
      "outputs": [],
      "source": [
        "a=[[1,2],[3,4,]]\n",
        "a\n",
        "b=a[:]\n",
        "a[0][1]=100\n",
        "a\n",
        "b"
      ]
    },
    {
      "attachments": {},
      "cell_type": "markdown",
      "metadata": {
        "id": "A_s_wJbBXh2D"
      },
      "source": [
        "스택 큐 구별\n",
        "튜플의 연산\n",
        "가변공간(플레이솔더)"
      ]
    },
    {
      "cell_type": "code",
      "execution_count": null,
      "metadata": {
        "id": "f_3UaV5nZCH9"
      },
      "outputs": [],
      "source": [
        "3 or 4 # 숫자 vs 숫자 : 작은수"
      ]
    },
    {
      "cell_type": "code",
      "execution_count": null,
      "metadata": {
        "id": "9ib0158qZERw"
      },
      "outputs": [],
      "source": [
        "3 and 4 # 숫자 vs 숫자 : 큰 수"
      ]
    },
    {
      "cell_type": "code",
      "execution_count": null,
      "metadata": {
        "id": "K90ZM-rEZFyA"
      },
      "outputs": [],
      "source": [
        "3 & 4 # 논리연산자가 아님 비트연산자\n",
        "# 0011 & 0100->0000"
      ]
    },
    {
      "cell_type": "code",
      "execution_count": 5,
      "metadata": {
        "id": "4_dqXh0-an7Y"
      },
      "outputs": [],
      "source": [
        "a=10\n",
        "b=10"
      ]
    },
    {
      "cell_type": "code",
      "execution_count": 6,
      "metadata": {
        "id": "dV_AkBtNar8P"
      },
      "outputs": [],
      "source": [
        "a=b"
      ]
    },
    {
      "cell_type": "code",
      "execution_count": 7,
      "metadata": {
        "id": "xU3mfy1GashA"
      },
      "outputs": [
        {
          "data": {
            "text/plain": [
              "True"
            ]
          },
          "execution_count": 7,
          "metadata": {},
          "output_type": "execute_result"
        }
      ],
      "source": [
        "a is b"
      ]
    },
    {
      "cell_type": "code",
      "execution_count": 8,
      "metadata": {
        "id": "pghSTV1zavWB"
      },
      "outputs": [],
      "source": [
        "a=300\n",
        "b=300"
      ]
    },
    {
      "cell_type": "code",
      "execution_count": 9,
      "metadata": {
        "id": "Mvam6NlZa3hR"
      },
      "outputs": [
        {
          "data": {
            "text/plain": [
              "True"
            ]
          },
          "execution_count": 9,
          "metadata": {},
          "output_type": "execute_result"
        }
      ],
      "source": [
        "a==b"
      ]
    },
    {
      "cell_type": "code",
      "execution_count": 10,
      "metadata": {
        "id": "HmUZDdVba6t6"
      },
      "outputs": [
        {
          "data": {
            "text/plain": [
              "False"
            ]
          },
          "execution_count": 10,
          "metadata": {},
          "output_type": "execute_result"
        }
      ],
      "source": [
        "a is b"
      ]
    },
    {
      "cell_type": "code",
      "execution_count": 11,
      "metadata": {
        "id": "fq0KmI3Fa-k4"
      },
      "outputs": [
        {
          "data": {
            "text/plain": [
              "True"
            ]
          },
          "execution_count": 11,
          "metadata": {},
          "output_type": "execute_result"
        }
      ],
      "source": [
        "a=-5\n",
        "b=-5\n",
        "a is b"
      ]
    },
    {
      "cell_type": "code",
      "execution_count": 12,
      "metadata": {
        "id": "sJut_DYYbCpf"
      },
      "outputs": [
        {
          "data": {
            "text/plain": [
              "False"
            ]
          },
          "execution_count": 12,
          "metadata": {},
          "output_type": "execute_result"
        }
      ],
      "source": [
        "a=-6\n",
        "a=-6\n",
        "a is b"
      ]
    },
    {
      "cell_type": "code",
      "execution_count": null,
      "metadata": {
        "id": "8OXbock5bCk_"
      },
      "outputs": [],
      "source": [
        "a=[1,2,3,4,5]\n",
        "b=a[:]"
      ]
    },
    {
      "cell_type": "code",
      "execution_count": null,
      "metadata": {
        "id": "XIBBLBgNbK5T"
      },
      "outputs": [],
      "source": [
        "a"
      ]
    },
    {
      "cell_type": "code",
      "execution_count": null,
      "metadata": {
        "id": "-txvn92TbKp_"
      },
      "outputs": [],
      "source": [
        "b"
      ]
    },
    {
      "cell_type": "code",
      "execution_count": null,
      "metadata": {
        "id": "1Yl0UilCbMVA"
      },
      "outputs": [],
      "source": [
        "a is b"
      ]
    },
    {
      "cell_type": "code",
      "execution_count": null,
      "metadata": {
        "id": "-Pn-t4KtbOiX"
      },
      "outputs": [],
      "source": [
        "import copy\n",
        "a=[1,2,3,4,5]\n",
        "b=copy.deepcopy(a)"
      ]
    },
    {
      "cell_type": "code",
      "execution_count": null,
      "metadata": {
        "id": "uFvwufqzbU2Z"
      },
      "outputs": [],
      "source": [
        "a"
      ]
    },
    {
      "cell_type": "code",
      "execution_count": null,
      "metadata": {
        "id": "6wz7Q8AAbVK4"
      },
      "outputs": [],
      "source": [
        "b"
      ]
    },
    {
      "cell_type": "code",
      "execution_count": null,
      "metadata": {
        "id": "u3w8jXsfbVd4"
      },
      "outputs": [],
      "source": [
        "a is b"
      ]
    },
    {
      "cell_type": "code",
      "execution_count": null,
      "metadata": {
        "id": "XKjdzpsscQv3"
      },
      "outputs": [],
      "source": [
        "a=100\n",
        "if a>0 and (a%2)==0:\n",
        "  print('a is even')"
      ]
    },
    {
      "cell_type": "code",
      "execution_count": null,
      "metadata": {
        "id": "wmEMRTdOcasw"
      },
      "outputs": [],
      "source": [
        "5 and 7"
      ]
    },
    {
      "cell_type": "code",
      "execution_count": null,
      "metadata": {
        "id": "fNSL6M-NcoO_"
      },
      "outputs": [],
      "source": [
        "7 & 13 # 0111 & 1101"
      ]
    },
    {
      "cell_type": "code",
      "execution_count": null,
      "metadata": {
        "id": "5N-0Q2kpcabB"
      },
      "outputs": [],
      "source": [
        "7 and 13"
      ]
    },
    {
      "cell_type": "code",
      "execution_count": null,
      "metadata": {
        "id": "gG4QGrzvcpaX"
      },
      "outputs": [],
      "source": [
        "13 & 7 # 0111 & 1101"
      ]
    },
    {
      "cell_type": "code",
      "execution_count": null,
      "metadata": {
        "id": "OIhamKQ0c6rS"
      },
      "outputs": [],
      "source": [
        "a=100\n",
        "if a>0 or (a%2)!=0:\n",
        "  print('a is even')"
      ]
    },
    {
      "cell_type": "code",
      "execution_count": null,
      "metadata": {
        "id": "e129sMbldB9S"
      },
      "outputs": [],
      "source": [
        "5 or 7"
      ]
    },
    {
      "cell_type": "code",
      "execution_count": null,
      "metadata": {
        "id": "ouvXu31pdB2A"
      },
      "outputs": [],
      "source": [
        "7 or 13"
      ]
    },
    {
      "cell_type": "code",
      "execution_count": 1,
      "metadata": {
        "id": "qeLrFgVrdBqX"
      },
      "outputs": [
        {
          "data": {
            "text/plain": [
              "15"
            ]
          },
          "execution_count": 1,
          "metadata": {},
          "output_type": "execute_result"
        }
      ],
      "source": [
        "7 | 13 # | : 비트연산자로 작동 됨. # 0111 | 1101"
      ]
    },
    {
      "cell_type": "code",
      "execution_count": 2,
      "metadata": {
        "id": "qH1AU2mxdBVn"
      },
      "outputs": [
        {
          "data": {
            "text/plain": [
              "15"
            ]
          },
          "execution_count": 2,
          "metadata": {},
          "output_type": "execute_result"
        }
      ],
      "source": [
        "13 | 7 # # 0111 | 1101"
      ]
    },
    {
      "attachments": {},
      "cell_type": "markdown",
      "metadata": {
        "id": "S2RsL7XcdsFv"
      },
      "source": [
        "연습문제 5-1  \n",
        "b로 a를 나눈 나머지가 3초과면 실패 3이면 무승부, 3미만이면 성공이 출력되도록 만들어보자\n"
      ]
    },
    {
      "cell_type": "code",
      "execution_count": null,
      "metadata": {
        "id": "5jRpHHBcd0G-"
      },
      "outputs": [],
      "source": [
        "a=34\n",
        "b=4\n",
        "if a%b>3:\n",
        "  print(\"실패\")\n",
        "elif a%b==3:\n",
        "  print(\"무승부\")\n",
        "else:\n",
        "  print(\"성공\")"
      ]
    },
    {
      "cell_type": "code",
      "execution_count": null,
      "metadata": {
        "id": "x_L-6SspgzpR"
      },
      "outputs": [],
      "source": [
        "a =34\n",
        "b =4 \n",
        "\n",
        "r = a%b\n",
        "\n",
        "if r>3:\n",
        "    print('실패')\n",
        "elif r==3:\n",
        "    print('무승부')\n",
        "else :\n",
        "    print('성공')"
      ]
    },
    {
      "attachments": {},
      "cell_type": "markdown",
      "metadata": {
        "id": "fZVH6jX0fHyx"
      },
      "source": [
        "연습문제 5-3  \n",
        "무슨 학교에 다니세요?\n",
        "태어난 연도를 계산하여 학교 종류를 맞추는 프로그램\n",
        "나이는 현재연도-태어난연도+1로 계산\n",
        "26세 이하 20세 이상이면 \"대학생\"\n",
        "20세 미만 17세 이상이면 \"고등학생\"\n",
        "17세 미만 14세 이상이면 \"중학생\"\n",
        "14세 미만 8세 이상이면 \"초등학생\"\n",
        "그외의 경우는 \"학생이 아닙니다\" 출력"
      ]
    },
    {
      "cell_type": "code",
      "execution_count": null,
      "metadata": {
        "id": "0dVfGMiAfGzL"
      },
      "outputs": [],
      "source": [
        "year1=input(\"당신이 태어난 년도를 입력하세요\")\n",
        "age1=2023-int(year1)+1\n",
        "if 20<=age1<=26:\n",
        "  print(\"대학생\")\n",
        "elif 17<=age1<20:\n",
        "  print(\"고등학생\")\n",
        "elif 14<=age1<17:\n",
        "  print(\"중학생\")\n",
        "elif 8<=age1<14:\n",
        "  print(\"초등학생\")\n",
        "else:\n",
        "  print(\"학생이 아닙니다.\")"
      ]
    },
    {
      "cell_type": "code",
      "execution_count": null,
      "metadata": {
        "id": "wokQ5aXChFGe"
      },
      "outputs": [],
      "source": [
        "birth_year = int(input('당신의 태어난 년도를 입력해주세요.'))\n",
        "\n",
        "age = 2023 - birth_year+1\n",
        "\n",
        "message = \"\"\n",
        "\n",
        "if 20<=age and age<=26:\n",
        "    message=\"대학생\"\n",
        "elif 17<=age and age<20:\n",
        "    message=\"고등학생\"\n",
        "elif 14<=age and age<17:\n",
        "    message=\"중학생\"\n",
        "elif 8<=age and age<14:\n",
        "    message=\"초등학생\"\n",
        "else:\n",
        "    print('학생이 아닙니다.')\n",
        "\n",
        "print(message)  "
      ]
    },
    {
      "attachments": {},
      "cell_type": "markdown",
      "metadata": {
        "id": "nl2Tja-ShYwZ"
      },
      "source": [
        "연습문제 5-5  \n",
        "양의 정수 하나를 입력받아 이 정수가 2의 배수인지 3의 배수인지 작성하시오\n"
      ]
    },
    {
      "cell_type": "code",
      "execution_count": null,
      "metadata": {
        "id": "xRtoh7kThWZW"
      },
      "outputs": [],
      "source": [
        "num1=int(input(\"양의정수\"))\n",
        "\n",
        "if num1%2==0 :\n",
        "  if num1%3==0 :\n",
        "    print(\"2와 3의 배수\")\n",
        "  else :\n",
        "    print(\"2의배수\")\n",
        "elif num1%3==0 :\n",
        "  print(\"3의배수\")\n",
        "else:\n",
        "  print(\"숫자\")"
      ]
    },
    {
      "cell_type": "code",
      "execution_count": null,
      "metadata": {
        "id": "rRnI_UCfiy_W"
      },
      "outputs": [],
      "source": [
        "num = int(input('정수를 하나 입력하세요.'))\n",
        "\n",
        "if num %2==0:\n",
        "    if num%3==0:\n",
        "        print('2와 3으로 나누어 집니다.')\n",
        "    else : \n",
        "        print('2로 나누어집니다.')\n",
        "elif num %3==0:\n",
        "    print('3으로 나누어 집니다.')\n",
        "else:\n",
        "    print('어느 것으로도 나누어지지 않습니다.')"
      ]
    },
    {
      "cell_type": "code",
      "execution_count": null,
      "metadata": {
        "id": "8X3-mCBu3Bs7"
      },
      "outputs": [],
      "source": [
        "for i in range(5,-1,-1):\n",
        "  print(i)"
      ]
    },
    {
      "attachments": {},
      "cell_type": "markdown",
      "metadata": {
        "id": "ZEsXK-bu6T9R"
      },
      "source": [
        "변수의 범위 지정하기  \n",
        "2) 자료형으로 범위"
      ]
    },
    {
      "cell_type": "code",
      "execution_count": null,
      "metadata": {
        "id": "dTMUNw_D6XXB"
      },
      "outputs": [],
      "source": [
        "word='hello'\n",
        "for i in word:\n",
        "  print(i)"
      ]
    },
    {
      "cell_type": "code",
      "execution_count": null,
      "metadata": {
        "id": "6lep5Bp46hCZ"
      },
      "outputs": [],
      "source": [
        "i=0\n",
        "for j in range(0,11):\n",
        "  i=j+1\n",
        "  print(i)"
      ]
    },
    {
      "attachments": {},
      "cell_type": "markdown",
      "metadata": {
        "id": "hUlBR2AyA_zY"
      },
      "source": [
        "(1) 계단형"
      ]
    },
    {
      "cell_type": "code",
      "execution_count": null,
      "metadata": {
        "id": "8uhZ5rxNAsew"
      },
      "outputs": [],
      "source": [
        "n=int(input(\"n:\"))\n",
        "for i in range(n):\n",
        "  print(\" \"*i, end=\"\") # end의 역할 sep와 비슷한 기능(구분자로 사용)\n",
        "  print(\"*\"*n)"
      ]
    },
    {
      "attachments": {},
      "cell_type": "markdown",
      "metadata": {
        "id": "ihfJVG2zBDPY"
      },
      "source": [
        "(2) 삼각형"
      ]
    },
    {
      "cell_type": "code",
      "execution_count": null,
      "metadata": {
        "id": "OhHmDugABFix"
      },
      "outputs": [],
      "source": [
        "n=int(input(\"n:\"))\n",
        "for i in range(1, n+1):\n",
        "  print(\"*\"*i)  "
      ]
    },
    {
      "attachments": {},
      "cell_type": "markdown",
      "metadata": {
        "id": "3qjE8QTlBbzo"
      },
      "source": [
        "(2)-1"
      ]
    },
    {
      "cell_type": "code",
      "execution_count": null,
      "metadata": {
        "id": "lGWdYaNhBg1Q"
      },
      "outputs": [],
      "source": [
        "n=int(input(\"n:\"))\n",
        "for i in range(1, n+1):\n",
        "  print(\" \"*(n-i), end=\"\")\n",
        "  print(\"*\"*i)"
      ]
    },
    {
      "attachments": {},
      "cell_type": "markdown",
      "metadata": {
        "id": "nTh6VQrZC9kR"
      },
      "source": [
        "(3) 역삼각형"
      ]
    },
    {
      "cell_type": "code",
      "execution_count": null,
      "metadata": {
        "id": "Q6G2_RsMBuM_"
      },
      "outputs": [],
      "source": [
        "n=int(input(\"n:\"))\n",
        "for i in range(n):\n",
        "  print(\"*\"*(n-i))"
      ]
    },
    {
      "attachments": {},
      "cell_type": "markdown",
      "metadata": {
        "id": "f3kP7SnmDAIs"
      },
      "source": [
        "(3)-1"
      ]
    },
    {
      "cell_type": "code",
      "execution_count": null,
      "metadata": {
        "id": "4RiLJYUfCTaI"
      },
      "outputs": [],
      "source": [
        "n=int(input(\"n:\"))\n",
        "for i in range(n):\n",
        "  print(\" \"*i, end=\"\")\n",
        "  print(\"*\"*(n-i))"
      ]
    },
    {
      "attachments": {},
      "cell_type": "markdown",
      "metadata": {
        "id": "N_MeE8QDDBtA"
      },
      "source": [
        "(4) 피라미드"
      ]
    },
    {
      "cell_type": "code",
      "execution_count": null,
      "metadata": {
        "id": "Phz8DZrfCWRI"
      },
      "outputs": [],
      "source": [
        "n=int(input(\"n:\"))\n",
        "for i in range(1, n+1):\n",
        "  print(\" \"*(n-i), end=\"\")\n",
        "  print(\"*\"*(2*i-1))"
      ]
    },
    {
      "attachments": {},
      "cell_type": "markdown",
      "metadata": {
        "id": "OwNC8CiEEz3H"
      },
      "source": [
        "참고 : https://songsw.tistory.com/30"
      ]
    },
    {
      "attachments": {},
      "cell_type": "markdown",
      "metadata": {
        "id": "TeLnQl4NGho_"
      },
      "source": [
        "연습문제 3"
      ]
    },
    {
      "cell_type": "code",
      "execution_count": null,
      "metadata": {
        "id": "1d6nXZOpG06v"
      },
      "outputs": [],
      "source": [
        "x=[3,6,9,20,-7,5]"
      ]
    },
    {
      "cell_type": "code",
      "execution_count": null,
      "metadata": {
        "id": "twgvYSg6E1_x"
      },
      "outputs": [],
      "source": [
        "for i in x:\n",
        "  print(i*10)"
      ]
    },
    {
      "cell_type": "code",
      "execution_count": null,
      "metadata": {
        "id": "DntvFisAGoQ2"
      },
      "outputs": [],
      "source": [
        "# 심화\n",
        "for i in range(0,len(x)):\n",
        "  x[i]=x[i]*10\n",
        "print(x)"
      ]
    },
    {
      "attachments": {},
      "cell_type": "markdown",
      "metadata": {
        "id": "-UNxEzKTHvF3"
      },
      "source": [
        "2번 문제"
      ]
    },
    {
      "cell_type": "code",
      "execution_count": null,
      "metadata": {
        "id": "EJsEnPEUHb1i"
      },
      "outputs": [],
      "source": [
        "y={\"math\":70, \"science\":80, \"english\":20}\n",
        "for key in y:\n",
        "  val=y[key]\n",
        "  y[key]=y[key]+10\n",
        "  print(\"%s:%d\"%(key,val+10))"
      ]
    },
    {
      "attachments": {},
      "cell_type": "markdown",
      "metadata": {
        "id": "TNT9nhVSM-P5"
      },
      "source": [
        "p.191 임의의 값 할당"
      ]
    },
    {
      "cell_type": "code",
      "execution_count": null,
      "metadata": {
        "id": "Kpz3Dlh4IV5o"
      },
      "outputs": [],
      "source": [
        "import random\n",
        "true_value=random.randint(1,100) \n",
        "input_value=99999 # 임의의 값 할당\n",
        "print(\"숫자를 맞춰보세요(1~100):\")\n",
        "num1=int(input(\"숫자 입력:\"))\n",
        "while True:\n",
        "  if input_value>num1:\n",
        "    print(\"숫자가 너무 작습니다.\")\n",
        "    num1=int(input(\"숫자 입력:\"))\n",
        "    continue\n",
        "  elif input_value<num1:\n",
        "    print(\"숫자가 너무 큽니다.\")\n",
        "    num1=int(input(\"숫자 입력:\"))\n",
        "    continue\n",
        "  else:\n",
        "    break\n",
        "print(\"정답입니다. 입력한 숫자는\",input_value,\"입니다.\")\n"
      ]
    },
    {
      "cell_type": "code",
      "execution_count": null,
      "metadata": {
        "id": "tk3bO3LrM3_m"
      },
      "outputs": [],
      "source": [
        "import random\n",
        "true_value=random.randint(1,100) \n",
        "input_value=99999 # 임의의 값 할당\n",
        "print(\"숫자를 맞춰보세요.\")\n",
        "\n",
        "while true_value !=input_value:\n",
        "  input_value=int(input())\n",
        "\n",
        "  if input_value>true_value:\n",
        "    print(\"숫자가 너무 큽니다.\") # 사용자의 입력값이 true_value보다 클때\n",
        "  else:\n",
        "    print(\"숫자가 너무 작습니다.\") # 사용자의 입력값이 true_value보다 작을때\n",
        "print(f\"정답입니다. 입력한숫자는 {true_value}입니다.\")"
      ]
    },
    {
      "attachments": {},
      "cell_type": "markdown",
      "metadata": {
        "id": "2ptkuRuYOPC-"
      },
      "source": [
        "연습문제5\n",
        "word=[\"shool\", \"game\", \"piano\",\"science\", \"hotel\",\"mountain\"] 중 글자수가 6글자 이상인 문자를 모아 새로운 리스트를 생성하세요"
      ]
    },
    {
      "cell_type": "code",
      "execution_count": null,
      "metadata": {
        "id": "YMdmzoFFOQd-"
      },
      "outputs": [],
      "source": [
        "word=[\"school\", \"game\", \"piano\",\"science\", \"hotel\",\"mountain\"]\n",
        "a=list()\n",
        "for i in range(len(word)):\n",
        "  if len(word[i])>=6:\n",
        "    a.append(word[i])\n",
        "print(a)"
      ]
    },
    {
      "attachments": {},
      "cell_type": "markdown",
      "metadata": {
        "id": "IP3ckb1aTJQ9"
      },
      "source": [
        "P.193 연습문제6"
      ]
    },
    {
      "cell_type": "code",
      "execution_count": null,
      "metadata": {
        "id": "pb01gaZTRUrV"
      },
      "outputs": [],
      "source": [
        "for i in range(1,101):\n",
        "  if i%3==0 and i%5==0:\n",
        "    print(\"3과5의공배수\")\n",
        "  elif i%3==0:\n",
        "    print(\"3의 배수\")\n",
        "  elif i%5==0:\n",
        "    print(\"5의 배수\")\n",
        "  else:\n",
        "    print(i)"
      ]
    },
    {
      "cell_type": "code",
      "execution_count": null,
      "metadata": {
        "id": "sl1qJpSqTs_s"
      },
      "outputs": [],
      "source": [
        "# 심화문제\n",
        "\n",
        "b=int(input(\"정수를 입력하세요.\"))\n",
        "if b<=0:\n",
        "  print(\"음수는 정의하지않음\")\n",
        "else:\n",
        "  for i in range(1,b+1):\n",
        "    if i%3==0 and i%5==0:\n",
        "      print(\"3과 5의 공배수\")\n",
        "    elif i%3==0:\n",
        "      print(\"3의 배수\")\n",
        "    elif i%5==0:\n",
        "      print(\"5의 배수\")\n",
        "    elif 1<=i<=100:\n",
        "      print(i)\n",
        "    else:\n",
        "      print('1과 100사이 숫자가 아닙니다.')"
      ]
    },
    {
      "attachments": {},
      "cell_type": "markdown",
      "metadata": {
        "id": "PIfXNRYEU2Rl"
      },
      "source": [
        "연습문제7  \n",
        "사용자로부터 숫자를 계속 입력받다가 s or S를 입력하면 합계출력"
      ]
    },
    {
      "cell_type": "code",
      "execution_count": null,
      "metadata": {
        "colab": {
          "base_uri": "https://localhost:8080/"
        },
        "id": "JByg8o-eU3Kj",
        "outputId": "767eb736-a547-409d-95fb-bc4717f923f9"
      },
      "outputs": [
        {
          "name": "stdout",
          "output_type": "stream",
          "text": [
            "50\n",
            "0\n",
            "30\n",
            "20\n",
            "s\n",
            "100\n"
          ]
        }
      ],
      "source": [
        "c=0\n",
        "d=1\n",
        "while (d==1):\n",
        "  a=input()\n",
        "  if a==\"s\" or a==\"S\":\n",
        "    d=0\n",
        "  else:\n",
        "    a=int(a)\n",
        "    c+=a\n",
        "print(c)"
      ]
    },
    {
      "attachments": {},
      "cell_type": "markdown",
      "metadata": {
        "id": "JO2CCXs0WlmL"
      },
      "source": [
        "얀습문제8  \n",
        "사람별 평균을 구하라."
      ]
    },
    {
      "cell_type": "code",
      "execution_count": null,
      "metadata": {
        "colab": {
          "base_uri": "https://localhost:8080/"
        },
        "id": "Zrd3Hr66c__y",
        "outputId": "1ece9d8d-11df-4a65-b38a-8e792c811026"
      },
      "outputs": [
        {
          "name": "stdout",
          "output_type": "stream",
          "text": [
            "[40.0, 66.0, 54.0, 63.333333333333336, 90.0]\n"
          ]
        }
      ],
      "source": [
        "kor_score = [39,69,29,100,80]\n",
        "math_score = [32,59,85,30,90]\n",
        "eng_score = [49,70,48,60,100]\n",
        "\n",
        "mideterm_score = [kor_score, math_score,eng_score]\n",
        "\n",
        "student_score=[0,0,0,0,0]\n",
        "i=0\n",
        "for subject in mideterm_score: #kor,math,eng 과목 선택\n",
        "    for score in subject: #과목 선택후\n",
        "        student_score[i]+=score #각 학생마다 개별로 교과 점수를 저장\n",
        "        # print(subject,score,'i:',i,student_score) #kor->math->eng \n",
        "        i+=1 #학생 index 구분\n",
        "    i=0 # 과목이 바뀔 때 학생 인덱스\n",
        "else:\n",
        "    a,b,c,d,e = student_score  #학생별 점수를 unpacking\n",
        "    student_average=[a/3,b/3,c/3,d/3,e/3]\n",
        "    print(student_average)"
      ]
    },
    {
      "cell_type": "code",
      "execution_count": null,
      "metadata": {
        "colab": {
          "base_uri": "https://localhost:8080/"
        },
        "id": "_DSd9Of0ez_I",
        "outputId": "92d40903-7370-4038-8f14-1e05a3cf6ed9"
      },
      "outputs": [
        {
          "name": "stdout",
          "output_type": "stream",
          "text": [
            "나눗셈을 진행합니다. 0.33333333333333331483\n"
          ]
        }
      ],
      "source": [
        "print(\"나눗셈을 진행합니다. {:.20f}\".format(1/3))"
      ]
    },
    {
      "attachments": {},
      "cell_type": "markdown",
      "metadata": {
        "id": "qocVETKZfxum"
      },
      "source": [
        "https://colab.research.google.com/drive/1ui5VjU3VbQ0D6SbgruuEm759wqgNFdWN?usp=sharing#scrollTo=BLePwOWUHCEM"
      ]
    }
  ],
  "metadata": {
    "colab": {
      "authorship_tag": "ABX9TyPM270y/MUA/fCREgrz16J9",
      "include_colab_link": true,
      "provenance": []
    },
    "kernelspec": {
      "display_name": "Python 3",
      "name": "python3"
    },
    "language_info": {
      "codemirror_mode": {
        "name": "ipython",
        "version": 3
      },
      "file_extension": ".py",
      "mimetype": "text/x-python",
      "name": "python",
      "nbconvert_exporter": "python",
      "pygments_lexer": "ipython3",
      "version": "3.9.13"
    }
  },
  "nbformat": 4,
  "nbformat_minor": 0
}

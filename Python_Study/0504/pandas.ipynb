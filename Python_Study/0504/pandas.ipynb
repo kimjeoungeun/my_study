{
 "cells": [
  {
   "cell_type": "code",
   "execution_count": null,
   "metadata": {},
   "outputs": [],
   "source": [
    "import pandas as pd\n",
    "stock=pd.read_csv(\"C:\\Users\\405\\my_study\\Python_Study\\0503\\stock_2020_01.csv\")"
   ]
  }
 ],
 "metadata": {
  "language_info": {
   "name": "python"
  },
  "orig_nbformat": 4
 },
 "nbformat": 4,
 "nbformat_minor": 2
}
